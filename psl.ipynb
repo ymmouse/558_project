{
 "cells": [
  {
   "cell_type": "code",
   "execution_count": 8,
   "id": "36b307ae",
   "metadata": {},
   "outputs": [],
   "source": [
    "with open('./kaggle_structured_data/Characters.csv') as f:\n",
    "    kaggle_data = [row[:-1].split(',') for row in f]"
   ]
  },
  {
   "cell_type": "code",
   "execution_count": 17,
   "id": "361c313d",
   "metadata": {},
   "outputs": [],
   "source": [
    "with open('./github_structured_data/relations.csv') as f:\n",
    "    github_data = [row[:-1].split(',') for row in f]\n",
    "with open('./github_structured_data/characters.csv') as f:\n",
    "    characters_lst = [row.split(',')[1] for row in f]"
   ]
  },
  {
   "cell_type": "code",
   "execution_count": 18,
   "id": "4686a560",
   "metadata": {},
   "outputs": [],
   "source": [
    "candset = [] #[l.id, r.id, l.name, r.name]\n",
    "for row in github_data:\n",
    "    if row[-1] == '+':\n",
    "        candset.append([int(row[0]), int(row[1]), characters_lst[int(row[0])], characters_lst[int(row[1])]])"
   ]
  },
  {
   "cell_type": "code",
   "execution_count": 20,
   "id": "b629fcb9",
   "metadata": {},
   "outputs": [
    {
     "data": {
      "text/plain": [
       "[1, 11, 'Regulus Arcturus Black', 'Alberforth Dumbledore']"
      ]
     },
     "execution_count": 20,
     "metadata": {},
     "output_type": "execute_result"
    }
   ],
   "source": [
    "candset[0]"
   ]
  },
  {
   "cell_type": "code",
   "execution_count": null,
   "id": "b6796feb",
   "metadata": {},
   "outputs": [],
   "source": []
  }
 ],
 "metadata": {
  "kernelspec": {
   "display_name": "Python 3",
   "language": "python",
   "name": "python3"
  },
  "language_info": {
   "codemirror_mode": {
    "name": "ipython",
    "version": 3
   },
   "file_extension": ".py",
   "mimetype": "text/x-python",
   "name": "python",
   "nbconvert_exporter": "python",
   "pygments_lexer": "ipython3",
   "version": "3.8.8"
  }
 },
 "nbformat": 4,
 "nbformat_minor": 5
}
