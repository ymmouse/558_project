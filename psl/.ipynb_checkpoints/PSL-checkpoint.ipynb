{
 "cells": [
  {
   "cell_type": "code",
   "execution_count": null,
   "metadata": {},
   "outputs": [],
   "source": [
    "import json"
   ]
  },
  {
   "cell_type": "markdown",
   "metadata": {},
   "source": [
    "# Fandom data"
   ]
  },
  {
   "cell_type": "code",
   "execution_count": null,
   "metadata": {},
   "outputs": [],
   "source": [
    "with open('psl_fandom/crawler/result.json') as f:\n",
    "    data_ = json.load(f)"
   ]
  },
  {
   "cell_type": "code",
   "execution_count": null,
   "metadata": {},
   "outputs": [],
   "source": [
    "sorted({int(i['id']):i['name'] for i in data_}.items(), key = lambda x : x[0], reverse = False)"
   ]
  },
  {
   "cell_type": "code",
   "execution_count": null,
   "metadata": {},
   "outputs": [],
   "source": [
    "#sorted([int(i['id']) for i in data_]) \n",
    "# missing \n",
    "# 7 Bartemius \"Barty\" Crouch Jr.\n",
    "# 41 Lily Potter\n",
    "# 49 Dolores Janes Umbridge"
   ]
  },
  {
   "cell_type": "code",
   "execution_count": null,
   "metadata": {},
   "outputs": [],
   "source": [
    "Bartemius = {'id': '7', 'name': 'Bartemius Crouch Junior', 'Born': 'c. 1962Great Britain', 'Died': \"c. 1995-1996 (aged 33 - 34) (received the Dementor's Kiss on 24 June, 1995)\", 'Blood status': 'Pure-blood or Half-blood', 'Nationality': 'British or Irish', 'Also known as': ['Barty', 'Alastor \"Mad-Eye\" Moody (under disguise of Polyjuice)'], 'Title(s)': 'Professor (as Alastor Moody) (1994-1995)', 'Species': 'Human', 'Gender': 'Male', 'Hair colour': 'Straw blonde', 'Skin colour': 'Pale, freckled', 'Family members': ['Great-grandfather †', 'Caspar Crouch (possible grandfather) †', 'Charis Crouch (née Black) (possible grandmother) †', 'Bartemius Crouch Snr (father) †', 'Mrs Crouch (mother) †', 'Possible aunts †', 'Crouch family', 'House of Black'], 'Boggart': 'Lord Voldemort', 'Wand': ['Unknown length, wood and core (formerly)', \"Harry Potter's wand (briefly)\", \"Alastor Moody's wand\"], 'Patronus': 'None', 'Occupation': 'Professor of Defence Against the Dark Arts (as Alastor Moody) (1994-1995)', 'Loyalty': ['Lord VoldemortDeath Eaters', 'Death Eaters', 'Hogwarts School of Witchcraft and Wizardry']}\n",
    "Lily = {'id': '41', 'name': 'Lily J. Potter (née Evans)', 'Born': '30 January, 1960  Cokeworth, Midlands, England, Great Britain', 'Died': \"31 October, 1981 (aged 21) Godric's Hollow, West Country, England, Great Britain\", 'Blood status': 'Muggle-born', 'Marital status': 'Widowed (briefly)', 'Nationality': 'English', 'Title(s)': 'Head Girl', 'Species': 'Human', 'Gender': 'Female', 'Hair colour': 'Auburn', 'Eye colour': 'Bright green', 'Family members': ['Mr Evans (father) †', 'Mrs Evans (mother) †', 'Petunia Dursley (née Evans) (sister) †', 'James Potter (husband) †', 'Harry Potter (son)', 'Ginevra Potter (née Weasley) (daughter-in-law)', 'James Potter II (grandson)', 'Albus Potter (grandson)', 'Lily L. Potter (granddaughter)', 'Vernon Dursley (brother-in-law)', 'Dudley Dursley (nephew)', 'Mrs Dursley (niece-in-law)', 'Dursley children (great-nieces or nephews)', 'Fleamont Potter (father-in-law) †', 'Euphemia Potter (mother-in-law) †', 'Potter family (in-laws)'], 'Romances': 'James Potter (husband)', 'Wand': '10¼\", Willow, unknown core', 'Patronus': 'Doe', 'House': 'Gryffindor', 'Loyalty': ['Evans family', 'Potter family', 'Hogwarts School of Witchcraft and WizardryGryffindorSlug Club', 'Gryffindor', 'Slug Club', 'Order of the Phoenix']}\n",
    "Dolores = {'id': '49', 'name': 'Dolores Jane Umbridge', 'Born': '26 August, 1961 or earlier', 'Blood status': 'Half-blood', 'Marital status': 'Single', 'Nationality': 'British or Irish', 'Title(s)': ['Madam', 'Senior Undersecretary (formerly)', 'Professor (formerly)', 'High Inquisitor (briefly)', 'Headmistress (briefly)'], 'Species': 'Human', 'Gender': 'Female', 'Hair colour': ['Mouse brown (formerly)', 'Iron grey'], 'Family members': ['Orford Umbridge (father)', 'Ellen Cracknell (mother)', 'Brother'], 'Wand': ['8\", Birch, dragon heartstring (formerly)', 'Unknown length, wood and core'], 'Patronus': 'Persian cat', 'Occupation': ['Head of the Improper Use of Magic Office (formerly)', 'Senior Undersecretary to the Minister for Magic (before 1995-1998)', 'Professor of Defence Against the Dark Arts at Hogwarts (1995-1996)', 'High Inquisitor of Hogwarts (1995-1996)', 'Headmistress of Hogwarts (1996)', 'Head of the Muggle-Born Registration Commission (1997-1998)'], 'House': 'Slytherin', 'Loyalty': ['British Ministry of Magic (formerly)Department of Magical Law Enforcement (formerly)Improper Use of Magic Office (formerly)Muggle-Born Registration Commission (formerly)Wizengamot (formerly)', 'Department of Magical Law Enforcement (formerly)Improper Use of Magic Office (formerly)', 'Improper Use of Magic Office (formerly)', 'Muggle-Born Registration Commission (formerly)', 'Wizengamot (formerly)', 'Hogwarts School of Witchcraft and Wizardry (formerly)SlytherinInquisitorial Squad (formerly)', 'Slytherin', 'Inquisitorial Squad (formerly)', 'Death Eaters (indirectly)', 'Lord Voldemort (indirectly)']}"
   ]
  },
  {
   "cell_type": "code",
   "execution_count": null,
   "metadata": {},
   "outputs": [],
   "source": [
    "data_.append(Bartemius)\n",
    "data_.append(Lily)\n",
    "data_.append(Dolores)"
   ]
  },
  {
   "cell_type": "code",
   "execution_count": null,
   "metadata": {},
   "outputs": [],
   "source": [
    "# incorrect \n",
    "# 10 Alberforth Dumbledore\n",
    "# 45 Lord Voldemort\n",
    "# 55 Ginny Weasley\n",
    "# 58 Ron Weasley\n",
    "# 62 Moaning Myrtle\n",
    "# 61 Hedwig\n",
    "# 63 Aragog\n",
    "# dropping 60 59 as well, all animals and elf, no houses"
   ]
  },
  {
   "cell_type": "code",
   "execution_count": null,
   "metadata": {},
   "outputs": [],
   "source": [
    "drop_ = [10,45,55,58,59,61,63,60,62]"
   ]
  },
  {
   "cell_type": "code",
   "execution_count": null,
   "metadata": {},
   "outputs": [],
   "source": [
    "Alberforth= {'id': '10', 'name': 'Aberforth Dumbledore', 'Born': 'between 1 September 1883 and 31 August 1884', 'Blood status': 'Half-blood', 'Nationality': 'British or Irish', 'Also known as': 'Ab', 'Species': 'Human', 'Gender': 'Male', 'Eye colour': 'Bright blue', 'Family members': ['Percival Dumbledore (father) †', 'Kendra Dumbledore (mother) †', 'Albus Dumbledore (brother) †', 'Ariana Dumbledore (sister) †', 'Aurelius Dumbledore (alleged relative)', 'Honoria (aunt)'], 'Wand': 'Unknown length, wood and core', 'Patronus': 'Goat', 'Occupation': \"Owner and Barman of the Hog's Head Inn\", 'Loyalty': [\"Hog's Head Inn\", 'Order of the Phoenix', 'Dumbledore family', 'Hogwarts School of Witchcraft and Wizardry']}\n",
    "Voldemort = {'id': '45', 'name': 'Tom Marvolo Riddle', 'Born': \"31 December, 1926Wool's Orphanage, London, England, Great Britain\", 'Died': '2 May, 1998 (aged 71)Great Hall, Hogwarts Castle, Highlands, Scotland, Great Britain', 'Blood status': 'Half-blood', 'Marital status': 'Single', 'Nationality': 'English', 'Also known as': ['Lord Voldemort (self-proclaimed title and chosen name)', 'You-Know-Who (by Wizarding community)', 'He-Who-Must-Not-Be-Named  (by Wizarding community)', 'The Dark Lord', 'Chief Death Eater (by Lee Jordan)', 'Heir of Slytherin', \"You-Know-Oops (by Jacob's sibling)\", \"He Who Must Not Be Taken Seriously (by Jacob's sibling)\"], 'Title(s)': ['Prefect', 'Head Boy', 'Dark Lord', 'Heir of Slytherin'], 'Species': 'Human', 'Gender': 'Male', 'Hair colour': 'Bald (formerly black)', 'Eye colour': 'Scarlet (formerly dark brown)', 'Skin colour': 'White (formerly pale)', 'Family members': ['Tom Riddle Snr (father) †', 'Merope Riddle (née Gaunt) (mother) †', 'Delphini (daughter)', 'Thomas Riddle (paternal grandfather) †', 'Mary Riddle (paternal grandmother) †', 'Marvolo Gaunt (maternal grandfather) †', 'Morfin Gaunt (maternal uncle) †', 'Corvinus Gaunt (ancestor) †', 'Gormlaith Gaunt (distant relative) †', 'Salazar Slytherin (ancestor) †', 'Cadmus Peverell (ancestor) †', 'Harry Potter (distant cousin)'], 'Boggart': 'His own corpse', 'Wand': ['13½\", Yew, phoenix feather core', 'Elm, dragon heartstring (temporary)', 'Elder, 15\", Thestral tail hair core (Never Mastered, Temporary)'], 'Patronus': 'None', 'Occupation': 'Shop assistant at Borgin and Burkes (formerly)', 'House': 'Slytherin', 'Loyalty': ['Death Eaters', 'Hogwarts School of Witchcraft and Wizardry (formerly)SlytherinSlug Club', 'Slytherin', 'Slug Club', 'British Ministry of Magic (only under his control)', 'Borgin and Burkes']}\n",
    "Ginny = {'id': '55', 'name': 'Ginevra Molly Potter (née Weasley)', 'Born': '11 August, 1981Great Britain', 'Blood status': 'Pure-blood', 'Marital status': 'Married', 'Nationality': 'English', 'Also known as': ['Ginny (by family & friends)', 'Gin (by Harry Potter)'], 'Title(s)': ['Chaser', 'Seeker'], 'Species': 'Human', 'Gender': 'Female', 'Hair colour': 'Red', 'Eye colour': 'Bright brown', 'Skin colour': 'Light', 'Family members': ['Arthur Weasley (father)', 'Molly Weasley (mother)', 'Bill Weasley (older brother)', 'Charlie Weasley (older brother)', 'Percy Weasley (older brother)', 'Fred Weasley (older brother) †', 'George Weasley (older brother)', 'Ron Weasley (older brother)', 'Harry Potter (husband)', 'James Potter II (son)', 'Albus Potter (son)', 'Lily Potter II (daughter)', 'Hermione Granger (sister-in-law)', 'Rose Granger-Weasley (niece)', 'Hugo Granger-Weasley (nephew)', 'Angelina Weasley (née Johnson) (sister-in-law)', 'Fred Weasley II (nephew)', 'Roxanne Weasley (niece)', 'Fleur Weasley (née Delacour) (sister-in-law)', 'Victoire Weasley (niece)', 'Dominique Weasley (niece)', 'Louis Weasley (nephew)', 'Audrey Weasley (sister-in-law)', 'Molly Weasley II (niece)', 'Lucy Weasley (niece)', 'At least two paternal uncles', 'Bilius (uncle) †', 'Uncle', 'Fabian Prewett (maternal uncle) †', 'Gideon Prewett (maternal uncle) †', 'Cousin', 'Muriel (great-aunt)', 'Septimus Weasley (paternal grandfather) †', 'Cedrella Weasley (née Black) (paternal grandmother) †', 'Mr Prewett (maternal grandfather) †', 'Mrs Prewett (maternal grandmother) †', 'Weasley family', 'House of Black (distant relatives)', 'James Potter (father-in-law) †', 'Lily Potter (née Evans) (mother-in-law) †'], 'Romances': ['Harry Potter (husband)', 'Dean Thomas (ex-boyfriend)', 'Michael Corner (ex-boyfriend)'], 'Boggart': 'Lord Voldemort', 'Wand': 'Unknown length, Yew, unknown core', 'Patronus': 'Horse', 'Occupation': ['Chaser for the Holyhead Harpies (formerly)', 'Senior Quidditch Correspondent for the Daily Prophet (formerly)', 'Sports editor for the Daily Prophet'], 'House': 'Gryffindor', 'Loyalty': ['Weasley family', 'Potter family', 'Prewett family', 'Hogwarts School of Witchcraft and WizardryGryffindorGryffindor Quidditch teamSlug Club', 'Gryffindor', 'Gryffindor Quidditch team', 'Slug Club', \"Dumbledore's Army\", 'Order of the Phoenix', 'Holyhead Harpies', 'Daily Prophet']}\n",
    "Ron = {'id': '58', 'name': 'Ronald Bilius Weasley', 'Born': '1 March, 1980,Ottery St Catchpole, Devon, England Great Britain', 'Blood status': 'Pure-blood', 'Marital status': 'Married', 'Nationality': 'English', 'Also known as': ['Ron (by family & friends)', 'Ickle Ronnikins (by Fred and George Weasley)', 'Wheezy (by Dobby)', 'Won-Won (by Lavender Brown)', 'Weasel (by Draco Malfoy)', 'Vincent Crabbe (under disguise of Polyjuice)', 'Harry Potter (under disguise of Polyjuice)', 'Reg Cattermole (under disguise of Polyjuice)', 'Stan Shunpike', 'Barny Weasley', 'Dragomir Despard', 'Roonil Wazlib (due to a typo caused by a faulty quill pen)'], 'Title(s)': ['Prefect', 'Keeper'], 'Species': 'Human', 'Gender': 'Male', 'Height': '5\\' 9\"', 'Weight': '152 lbs', 'Hair colour': 'Red', 'Eye colour': 'Blue', 'Skin colour': 'Pale', 'Family members': ['Septimus Weasley (paternal grandfather) †', 'Cedrella Weasley (née Black) (paternal grandmother) †', 'Mr Prewett (maternal grandfather)', 'Mrs Prewett (maternal grandmother)', 'Arthur Weasley (father)', 'Molly Weasley (née Prewett) (mother)', 'Bill Weasley (older brother)', 'Charlie Weasley (older brother)', 'Percy Weasley (older brother)', 'Fred Weasley I (older brother) †', 'George Weasley (older brother)', 'Ginevra Potter (née Weasley) (younger sister)', 'Hermione Granger (wife)', 'Rose Granger-Weasley (daughter)', 'Hugo Granger-Weasley (son)', 'Tessie (great-aunt)', 'Gideon Prewett (maternal uncle) †', 'Fabian Prewett (maternal uncle) †', 'Bilius (uncle) †', 'Uncle', 'Cousin', 'Paternal uncles', 'Harry Potter (brother-in-law)', 'James Potter II (nephew)', 'Albus Potter (nephew)', 'Lily L. Potter (niece)', 'Fleur Weasley (née Delacour) (sister-in-law)', 'Victoire Weasley (niece)', 'Dominique Weasley (niece)', 'Louis Weasley (nephew)', 'Audrey Weasley (sister-in-law)', 'Molly Weasley II (niece)', 'Lucy Weasley (niece)', 'Angelina Weasley (née Johnson) (sister-in-law)', 'Fred Weasley II (nephew)', 'Roxanne Weasley (niece)', 'Mr Granger (father-in-law)', 'Mrs Granger (mother-in-law)', 'Weasley family', 'House of Black'], 'Romances': ['Lavender Brown (ex-girlfriend)', 'Hermione Granger (wife)'], 'Boggart': 'Aragog', 'Wand': ['12\", Ash, unicorn tail hair', '14\", Willow, unicorn tail hair', '9¼\", Chestnut, Dragon heartstring'], 'Patronus': 'Jack Russell terrier', 'Occupation': ['Auror (formerly)', \"Weasleys' Wizard Wheezes co-manager\"], 'House': 'Gryffindor', 'Loyalty': ['Weasley family', 'Granger family', 'Prewett family', 'Potter family', \"Dumbledore's Army\", 'Order of the Phoenix', 'British Ministry of MagicAuror Department', 'Auror Department', 'Hogwarts School of Witchcraft and WizardryGryffindorGryffindor Quidditch team', 'Gryffindor', 'Gryffindor Quidditch team', 'S.P.E.W.', \"Weasleys' Wizard Wheezes\", 'Chudley Cannons']}\n",
    "Mytrle = {'id': '62', 'name': 'Myrtle Elizabeth Warren', 'Born': 'Between 14 June, 1928 and 13 June, 1929', 'Died': \"13 June, 1943 (aged 14)Moaning Myrtle's Bathroom, Hogwarts Castle, Highlands, Scotland, Great Britain\", 'Blood status': 'Muggle-born', 'Nationality': 'British or Irish', 'Also known as': 'Moaning Myrtle', 'Species': ['Human (formerly)', 'Ghost'], 'Gender': 'Female', 'Skin colour': 'Pale', 'Family members': ['Mr Warren (father)', 'Mrs Warren (mother)'], 'Romances': ['Harry Potter', 'Draco Malfoy'], 'House': 'Ravenclaw', 'Loyalty': ['Warren family', 'Hogwarts School of Witchcraft and WizardryRavenclaw', 'Ravenclaw', 'Harry Potter', 'Draco Malfoy', 'Albus Potter', 'Scorpius Malfoy']}\n",
    "\n",
    "data_.append(Alberforth)\n",
    "data_.append(Voldemort)\n",
    "data_.append(Ginny)\n",
    "data_.append(Ron)\n",
    "data_.append(Mytrle)"
   ]
  },
  {
   "cell_type": "code",
   "execution_count": null,
   "metadata": {},
   "outputs": [],
   "source": [
    "for d in data_:\n",
    "    if int(d['id']) == 63:\n",
    "        data_.remove(d)"
   ]
  },
  {
   "cell_type": "code",
   "execution_count": null,
   "metadata": {},
   "outputs": [],
   "source": [
    "sorted({int(i['id']):i['name'] for i in data_}.items(), key = lambda x : x[0], reverse = False)"
   ]
  },
  {
   "cell_type": "code",
   "execution_count": null,
   "metadata": {},
   "outputs": [],
   "source": [
    "data_ = sorted(data_, key = lambda x : int(x['id']), reverse = False)"
   ]
  },
  {
   "cell_type": "code",
   "execution_count": null,
   "metadata": {},
   "outputs": [],
   "source": [
    "data_[10]"
   ]
  },
  {
   "cell_type": "markdown",
   "metadata": {},
   "source": [
    "## entity attributes\n",
    "\n",
    "| index | name  | blood_status |hair_color | eye_color | wand | patronus | occupation | loyalty | relation+| relation- | house |\n",
    "| :- | :-   | :-          | :-       | :-       | :-  | :-      | :-  | :-  | :- | :- | -: |\n",
    "| ***Int*** | ***str*** |  ***str***| ***str***  |  ***str*** |  ***List***  |  ***str*** | ***List***  |    ***List***   |   ***List***  | ***List*** | ***str*** | \n",
    "\n",
    "\n",
    "\n",
    "\n"
   ]
  },
  {
   "cell_type": "code",
   "execution_count": null,
   "metadata": {},
   "outputs": [],
   "source": [
    "\n",
    "results_ = []\n",
    "\n",
    "for i in data:\n",
    "\n",
    "    entity = { 'id': i['id'],\n",
    "              'name'     : i['name'],\n",
    "                'blood': 0,\n",
    "                'house'       : '',\n",
    "                'loyalty'     : 0\n",
    "                        }\n",
    "\n",
    "    #if 'Blood status' in i.keys():\n",
    "    #    if i['Blood status'] == 'Pure-blood':\n",
    "    #        entity['blood'] = 1\n",
    "\n",
    "    #evil_org = ['death','eaters','voldemort','malfoy']\n",
    "    #if 'Loyalty' in i.keys():\n",
    "    #    for l in i['Loyalty']:\n",
    "    #        for e in evil_org:\n",
    "    #            if e in l.lower():\n",
    "    #                entity['loyalty'] = 1\n",
    "\n",
    "    #if 'House' in i.keys():\n",
    "    #    entity['house'] = i['House']\n",
    "\n",
    "    results_.append(entity)\n",
    "\n",
    "results_"
   ]
  },
  {
   "cell_type": "code",
   "execution_count": null,
   "metadata": {},
   "outputs": [],
   "source": []
  }
 ],
 "metadata": {
  "kernelspec": {
   "display_name": "Python 3",
   "language": "python",
   "name": "python3"
  },
  "language_info": {
   "codemirror_mode": {
    "name": "ipython",
    "version": 3
   },
   "file_extension": ".py",
   "mimetype": "text/x-python",
   "name": "python",
   "nbconvert_exporter": "python",
   "pygments_lexer": "ipython3",
   "version": "3.7.2"
  }
 },
 "nbformat": 4,
 "nbformat_minor": 4
}
