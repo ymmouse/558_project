{
 "cells": [
  {
   "cell_type": "code",
   "execution_count": 1,
   "metadata": {},
   "outputs": [],
   "source": [
    "import json"
   ]
  },
  {
   "cell_type": "markdown",
   "metadata": {},
   "source": [
    "# Fandom data"
   ]
  },
  {
   "cell_type": "code",
   "execution_count": 2,
   "metadata": {},
   "outputs": [],
   "source": [
    "with open('psl_fandom/crawler/result.json') as f:\n",
    "    data_ = json.load(f)"
   ]
  },
  {
   "cell_type": "code",
   "execution_count": 3,
   "metadata": {},
   "outputs": [
    {
     "data": {
      "text/plain": [
       "[(0, 'Regulus Arcturus Black'),\n",
       " (1, 'Sirius Black III'),\n",
       " (2, 'Lavender Brown'),\n",
       " (3, 'Cho Chang'),\n",
       " (4, 'Mr Crabbe'),\n",
       " (5, 'Vincent Crabbe'),\n",
       " (6, 'Bartemius Crouch Senior'),\n",
       " (8, 'Fleur Isabelle Weasley (née Delacour)'),\n",
       " (9, 'Cedric Diggory'),\n",
       " (10,\n",
       "  \"Organisation information\\n\\nFounder(s)\\nHarry Potter (leader and teacher)Ron Weasley (co-founder)Hermione Granger (co-founder)[1]\\n\\n\\nFounded\\nOctober 1995 (1st)September[2] 1997 (2nd)\\n\\n\\nDissolved\\n1996 (1st)2 May, 1998 (2nd)\\n\\n\\nLeader(s)\\nHarry Potter[3] (1995–1997)Neville Longbottom, Ginny Weasley, Luna Lovegood[4] (acting, 1997–1998)\\n\\n\\nKnown Members\\nAngelina JohnsonAlice TolipanAlicia SpinnetAnthony GoldsteinCho ChangColin Creevey †Cormac McLaggenDean ThomasDennis CreeveyErnie MacmillanFred Weasley †George WeasleyHannah AbbottKatie BellJustin Finch-FletchleyLavender Brown †LeanneLee JordanLuca CarusoMaisy ReynoldsMarietta Edgecombe (defected)Michael CornerNeville LongbottomPadma PatilParvati PatilRomilda VaneSeamus FinniganSusan BonesTerry BootZacharias Smith (abandoned)Several unnamed members from Houses Gryffindor, Hufflepuff, and Ravenclaw\\n\\n\\nHeadquarters\\nRoom of Requirement, Seventh-floor corridor, Hogwarts castle, Scotland\\n\\n\\nIntentions\\nTo learn magical methods of self-defence; rebel against the Death Eaters, the Ministry of Magic, and the Inquisitorial Squad's control at Hogwarts\\n\\n\\nAffiliation\\nAlbus DumbledoreHarry PotterHogwarts School of Witchcraft and WizardryGryffindorRavenclawHufflepuffOrder of the Phoenix\\n\\n\\nEnemies\\nDolores Umbridge (1995–1996)Inquisitorial Squad (1995–1996)Ministry of Magic (1995–1996) & (1997–1998)Lord VoldemortDeath Eaters\"),\n",
       " (11, 'Albus Percival Wulfric Brian Dumbledore'),\n",
       " (12, 'Dudley Dursley'),\n",
       " (13, 'Petunia Dursley (née Evans)'),\n",
       " (14, 'Vernon Dursley'),\n",
       " (15, 'Argus Filch'),\n",
       " (16, 'Seamus Finnigan'),\n",
       " (17, 'Nicolas Flamel'),\n",
       " (18, 'Cornelius Oswald Fudge'),\n",
       " (19, 'Mr Goyle'),\n",
       " (20, 'Gregory Goyle'),\n",
       " (21, 'Hermione Jean Granger'),\n",
       " (22, 'Rubeus Hagrid'),\n",
       " (23, 'Igor Karkaroff'),\n",
       " (24, 'Viktor Krum'),\n",
       " (25, 'Bellatrix Lestrange (née Black)'),\n",
       " (26, 'Alice Longbottom'),\n",
       " (27, 'Frank C. J. Longbottom'),\n",
       " (28, 'Neville Longbottom'),\n",
       " (29, 'Luna Scamander (née Lovegood)'),\n",
       " (30, 'Xenophilius Lovegood'),\n",
       " (31, 'Remus John Lupin'),\n",
       " (32, 'Draco Lucius Malfoy'),\n",
       " (33, 'Lucius Malfoy'),\n",
       " (34, 'Narcissa Malfoy (née Black)'),\n",
       " (35, 'Olympe Maxime'),\n",
       " (36, 'Minerva McGonagall'),\n",
       " (37, 'Alastor Moody'),\n",
       " (38, 'Peter Pettigrew'),\n",
       " (39, 'Harry James Potter'),\n",
       " (40, 'James Potter I'),\n",
       " (42, 'Quirinus Quirrell'),\n",
       " (43, 'Tom Riddle'),\n",
       " (44, 'Mary Riddle'),\n",
       " (45,\n",
       "  'Part of the Second Wizarding War\\n\\nDate\\n24 June, 1995\\n\\n\\nLocation\\nLittle Hangleton graveyard, England, Great Britain[1]\\n\\n\\nCause\\nMonths of planning and preparations made by Voldemort and two of his Death Eaters to ensure that Harry Potter is entered in the Triwizard Tournament\\n\\n\\nResult\\nDeath Eaters tactical victory, Order of the Phoenix strategic victory. Voldemort regains physical form, but fails to keep this secret from Albus Dumbledore.  Harry Potter inadvertently bound to life by Voldemort.  Death of Cedric Diggory.'),\n",
       " (46, 'Rita Skeeter'),\n",
       " (47, 'Severus Snape'),\n",
       " (48, 'Nymphadora Lupin (née Tonks)'),\n",
       " (50, 'Arthur Weasley'),\n",
       " (51, 'William Arthur Weasley'),\n",
       " (52, 'Charles Weasley'),\n",
       " (53, 'Fred Weasley I'),\n",
       " (54, 'George Weasley'),\n",
       " (55,\n",
       "  'HP Trading Card Game information\\n\\nSet\\nHarry Potter Trading Card Game Chamber of Secrets Expansion\\n\\n\\nNumber\\n25/140\\n\\n\\nRarity\\nRare\\n\\n\\nType\\n CharacterWitch/Gryffindor/Unique\\n\\n\\nInformation\\nBefore each of your turns, count the number of other Characters you have in play. You may draw that many cards.\\n\\n\\nIllustrator\\nKim Graham'),\n",
       " (56, 'Molly Weasley (née Prewett)'),\n",
       " (57, 'Percy Ignatius Weasley'),\n",
       " (58,\n",
       "  'HP Trading Card Game information\\n\\nSet\\nHarry Potter Trading Card Game Base Set\\n\\n\\nNumber\\n17/116\\n\\n\\nRarity\\nHolo Portrait Premium\\n\\n\\nType\\n Character • Wizard/Gryffindor/Unique\\n\\n\\nInformation\\nWhenever you play a Character card, you use up 1 Action to play it instead of 2.\\n\\n\\nIllustrator\\nD. Alexander Gregory'),\n",
       " (59, 'Dobby'),\n",
       " (60, 'Biographical information\\n\\nBorn\\nPre 1991'),\n",
       " (61,\n",
       "  'Biographical information\\n\\nBorn\\nBefore 1991\\n\\n\\nDied\\n27 July 1997England[1]'),\n",
       " (62,\n",
       "  \"Location information\\n\\nLocation\\nSecond floor, Myrtle's Bathroom Tower, Hogwarts Castle, Scotland, Great Britain[1]\\n\\n\\nOwner(s)\\nHogwarts School of Witchcraft and Wizardry[1]\\n\\n\\nPermanent residents\\nMyrtle Warren[1]\\n\\n\\nAffiliation\\nHogwarts School of Witchcraft and Wizardry[1]Chamber of Secrets[2]\"),\n",
       " (63,\n",
       "  'Biographical information\\n\\nBorn\\nc. 1942\\n\\n\\nDied\\n20 April, 1997 (aged around 55)[1]'),\n",
       " (64, 'Grawp')]"
      ]
     },
     "execution_count": 3,
     "metadata": {},
     "output_type": "execute_result"
    }
   ],
   "source": [
    "sorted({int(i['id']):i['name'] for i in data_}.items(), key = lambda x : x[0], reverse = False)"
   ]
  },
  {
   "cell_type": "code",
   "execution_count": 4,
   "metadata": {},
   "outputs": [],
   "source": [
    "#sorted([int(i['id']) for i in data_]) \n",
    "# missing \n",
    "# 7 Bartemius \"Barty\" Crouch Jr.\n",
    "# 41 Lily Potter\n",
    "# 49 Dolores Janes Umbridge"
   ]
  },
  {
   "cell_type": "code",
   "execution_count": 5,
   "metadata": {},
   "outputs": [],
   "source": [
    "# incorrect \n",
    "# 10 Alberforth Dumbledore\n",
    "# 45 Lord Voldemort\n",
    "# 55 Ginny Weasley\n",
    "# 58 Ron Weasley\n",
    "# 62 Moaning Myrtle\n",
    "# 61 Hedwig\n",
    "# 63 Aragog\n",
    "# dropping 60 59 as well, all animals and elf, no houses"
   ]
  },
  {
   "cell_type": "code",
   "execution_count": 6,
   "metadata": {},
   "outputs": [],
   "source": [
    "drop_ = [10,45,55,58,59,61,63,60,62]"
   ]
  },
  {
   "cell_type": "code",
   "execution_count": 7,
   "metadata": {},
   "outputs": [],
   "source": [
    "Bartemius = {'id': '7', 'name': 'Bartemius Crouch Junior', 'Born': 'c. 1962Great Britain', 'Died': \"c. 1995-1996 (aged 33 - 34) (received the Dementor's Kiss on 24 June, 1995)\", 'Blood status': 'Pure-blood or Half-blood', 'Nationality': 'British or Irish', 'Also known as': ['Barty', 'Alastor \"Mad-Eye\" Moody (under disguise of Polyjuice)'], 'Title(s)': 'Professor (as Alastor Moody) (1994-1995)', 'Species': 'Human', 'Gender': 'Male', 'Hair colour': 'Straw blonde', 'Skin colour': 'Pale, freckled', 'Family members': ['Great-grandfather †', 'Caspar Crouch (possible grandfather) †', 'Charis Crouch (née Black) (possible grandmother) †', 'Bartemius Crouch Snr (father) †', 'Mrs Crouch (mother) †', 'Possible aunts †', 'Crouch family', 'House of Black'], 'Boggart': 'Lord Voldemort', 'Wand': ['Unknown length, wood and core (formerly)', \"Harry Potter's wand (briefly)\", \"Alastor Moody's wand\"], 'Patronus': 'None', 'Occupation': 'Professor of Defence Against the Dark Arts (as Alastor Moody) (1994-1995)', 'Loyalty': ['Lord VoldemortDeath Eaters', 'Death Eaters', 'Hogwarts School of Witchcraft and Wizardry']}\n",
    "Lily = {'id': '41', 'name': 'Lily J. Potter (née Evans)', 'Born': '30 January, 1960  Cokeworth, Midlands, England, Great Britain', 'Died': \"31 October, 1981 (aged 21) Godric's Hollow, West Country, England, Great Britain\", 'Blood status': 'Muggle-born', 'Marital status': 'Widowed (briefly)', 'Nationality': 'English', 'Title(s)': 'Head Girl', 'Species': 'Human', 'Gender': 'Female', 'Hair colour': 'Auburn', 'Eye colour': 'Bright green', 'Family members': ['Mr Evans (father) †', 'Mrs Evans (mother) †', 'Petunia Dursley (née Evans) (sister) †', 'James Potter (husband) †', 'Harry Potter (son)', 'Ginevra Potter (née Weasley) (daughter-in-law)', 'James Potter II (grandson)', 'Albus Potter (grandson)', 'Lily L. Potter (granddaughter)', 'Vernon Dursley (brother-in-law)', 'Dudley Dursley (nephew)', 'Mrs Dursley (niece-in-law)', 'Dursley children (great-nieces or nephews)', 'Fleamont Potter (father-in-law) †', 'Euphemia Potter (mother-in-law) †', 'Potter family (in-laws)'], 'Romances': 'James Potter (husband)', 'Wand': '10¼\", Willow, unknown core', 'Patronus': 'Doe', 'House': 'Gryffindor', 'Loyalty': ['Evans family', 'Potter family', 'Hogwarts School of Witchcraft and WizardryGryffindorSlug Club', 'Gryffindor', 'Slug Club', 'Order of the Phoenix']}\n",
    "Dolores = {'id': '49', 'name': 'Dolores Jane Umbridge', 'Born': '26 August, 1961 or earlier', 'Blood status': 'Half-blood', 'Marital status': 'Single', 'Nationality': 'British or Irish', 'Title(s)': ['Madam', 'Senior Undersecretary (formerly)', 'Professor (formerly)', 'High Inquisitor (briefly)', 'Headmistress (briefly)'], 'Species': 'Human', 'Gender': 'Female', 'Hair colour': ['Mouse brown (formerly)', 'Iron grey'], 'Family members': ['Orford Umbridge (father)', 'Ellen Cracknell (mother)', 'Brother'], 'Wand': ['8\", Birch, dragon heartstring (formerly)', 'Unknown length, wood and core'], 'Patronus': 'Persian cat', 'Occupation': ['Head of the Improper Use of Magic Office (formerly)', 'Senior Undersecretary to the Minister for Magic (before 1995-1998)', 'Professor of Defence Against the Dark Arts at Hogwarts (1995-1996)', 'High Inquisitor of Hogwarts (1995-1996)', 'Headmistress of Hogwarts (1996)', 'Head of the Muggle-Born Registration Commission (1997-1998)'], 'House': 'Slytherin', 'Loyalty': ['British Ministry of Magic (formerly)Department of Magical Law Enforcement (formerly)Improper Use of Magic Office (formerly)Muggle-Born Registration Commission (formerly)Wizengamot (formerly)', 'Department of Magical Law Enforcement (formerly)Improper Use of Magic Office (formerly)', 'Improper Use of Magic Office (formerly)', 'Muggle-Born Registration Commission (formerly)', 'Wizengamot (formerly)', 'Hogwarts School of Witchcraft and Wizardry (formerly)SlytherinInquisitorial Squad (formerly)', 'Slytherin', 'Inquisitorial Squad (formerly)', 'Death Eaters (indirectly)', 'Lord Voldemort (indirectly)']}"
   ]
  },
  {
   "cell_type": "code",
   "execution_count": 8,
   "metadata": {},
   "outputs": [],
   "source": [
    "Alberforth= {'id': '10', 'name': 'Aberforth Dumbledore', 'Born': 'between 1 September 1883 and 31 August 1884', 'Blood status': 'Half-blood', 'Nationality': 'British or Irish', 'Also known as': 'Ab', 'Species': 'Human', 'Gender': 'Male', 'Eye colour': 'Bright blue', 'Family members': ['Percival Dumbledore (father) †', 'Kendra Dumbledore (mother) †', 'Albus Dumbledore (brother) †', 'Ariana Dumbledore (sister) †', 'Aurelius Dumbledore (alleged relative)', 'Honoria (aunt)'], 'Wand': 'Unknown length, wood and core', 'Patronus': 'Goat', 'Occupation': \"Owner and Barman of the Hog's Head Inn\", 'Loyalty': [\"Hog's Head Inn\", 'Order of the Phoenix', 'Dumbledore family', 'Hogwarts School of Witchcraft and Wizardry']}\n",
    "Voldemort = {'id': '45', 'name': 'Tom Marvolo Riddle', 'Born': \"31 December, 1926Wool's Orphanage, London, England, Great Britain\", 'Died': '2 May, 1998 (aged 71)Great Hall, Hogwarts Castle, Highlands, Scotland, Great Britain', 'Blood status': 'Half-blood', 'Marital status': 'Single', 'Nationality': 'English', 'Also known as': ['Lord Voldemort (self-proclaimed title and chosen name)', 'You-Know-Who (by Wizarding community)', 'He-Who-Must-Not-Be-Named  (by Wizarding community)', 'The Dark Lord', 'Chief Death Eater (by Lee Jordan)', 'Heir of Slytherin', \"You-Know-Oops (by Jacob's sibling)\", \"He Who Must Not Be Taken Seriously (by Jacob's sibling)\"], 'Title(s)': ['Prefect', 'Head Boy', 'Dark Lord', 'Heir of Slytherin'], 'Species': 'Human', 'Gender': 'Male', 'Hair colour': 'Bald (formerly black)', 'Eye colour': 'Scarlet (formerly dark brown)', 'Skin colour': 'White (formerly pale)', 'Family members': ['Tom Riddle Snr (father) †', 'Merope Riddle (née Gaunt) (mother) †', 'Delphini (daughter)', 'Thomas Riddle (paternal grandfather) †', 'Mary Riddle (paternal grandmother) †', 'Marvolo Gaunt (maternal grandfather) †', 'Morfin Gaunt (maternal uncle) †', 'Corvinus Gaunt (ancestor) †', 'Gormlaith Gaunt (distant relative) †', 'Salazar Slytherin (ancestor) †', 'Cadmus Peverell (ancestor) †', 'Harry Potter (distant cousin)'], 'Boggart': 'His own corpse', 'Wand': ['13½\", Yew, phoenix feather core', 'Elm, dragon heartstring (temporary)', 'Elder, 15\", Thestral tail hair core (Never Mastered, Temporary)'], 'Patronus': 'None', 'Occupation': 'Shop assistant at Borgin and Burkes (formerly)', 'House': 'Slytherin', 'Loyalty': ['Death Eaters', 'Hogwarts School of Witchcraft and Wizardry (formerly)SlytherinSlug Club', 'Slytherin', 'Slug Club', 'British Ministry of Magic (only under his control)', 'Borgin and Burkes']}\n",
    "Ginny = {'id': '55', 'name': 'Ginevra Molly Potter (née Weasley)', 'Born': '11 August, 1981Great Britain', 'Blood status': 'Pure-blood', 'Marital status': 'Married', 'Nationality': 'English', 'Also known as': ['Ginny (by family & friends)', 'Gin (by Harry Potter)'], 'Title(s)': ['Chaser', 'Seeker'], 'Species': 'Human', 'Gender': 'Female', 'Hair colour': 'Red', 'Eye colour': 'Bright brown', 'Skin colour': 'Light', 'Family members': ['Arthur Weasley (father)', 'Molly Weasley (mother)', 'Bill Weasley (older brother)', 'Charlie Weasley (older brother)', 'Percy Weasley (older brother)', 'Fred Weasley (older brother) †', 'George Weasley (older brother)', 'Ron Weasley (older brother)', 'Harry Potter (husband)', 'James Potter II (son)', 'Albus Potter (son)', 'Lily Potter II (daughter)', 'Hermione Granger (sister-in-law)', 'Rose Granger-Weasley (niece)', 'Hugo Granger-Weasley (nephew)', 'Angelina Weasley (née Johnson) (sister-in-law)', 'Fred Weasley II (nephew)', 'Roxanne Weasley (niece)', 'Fleur Weasley (née Delacour) (sister-in-law)', 'Victoire Weasley (niece)', 'Dominique Weasley (niece)', 'Louis Weasley (nephew)', 'Audrey Weasley (sister-in-law)', 'Molly Weasley II (niece)', 'Lucy Weasley (niece)', 'At least two paternal uncles', 'Bilius (uncle) †', 'Uncle', 'Fabian Prewett (maternal uncle) †', 'Gideon Prewett (maternal uncle) †', 'Cousin', 'Muriel (great-aunt)', 'Septimus Weasley (paternal grandfather) †', 'Cedrella Weasley (née Black) (paternal grandmother) †', 'Mr Prewett (maternal grandfather) †', 'Mrs Prewett (maternal grandmother) †', 'Weasley family', 'House of Black (distant relatives)', 'James Potter (father-in-law) †', 'Lily Potter (née Evans) (mother-in-law) †'], 'Romances': ['Harry Potter (husband)', 'Dean Thomas (ex-boyfriend)', 'Michael Corner (ex-boyfriend)'], 'Boggart': 'Lord Voldemort', 'Wand': 'Unknown length, Yew, unknown core', 'Patronus': 'Horse', 'Occupation': ['Chaser for the Holyhead Harpies (formerly)', 'Senior Quidditch Correspondent for the Daily Prophet (formerly)', 'Sports editor for the Daily Prophet'], 'House': 'Gryffindor', 'Loyalty': ['Weasley family', 'Potter family', 'Prewett family', 'Hogwarts School of Witchcraft and WizardryGryffindorGryffindor Quidditch teamSlug Club', 'Gryffindor', 'Gryffindor Quidditch team', 'Slug Club', \"Dumbledore's Army\", 'Order of the Phoenix', 'Holyhead Harpies', 'Daily Prophet']}\n",
    "Ron = {'id': '58', 'name': 'Ronald Bilius Weasley', 'Born': '1 March, 1980,Ottery St Catchpole, Devon, England Great Britain', 'Blood status': 'Pure-blood', 'Marital status': 'Married', 'Nationality': 'English', 'Also known as': ['Ron (by family & friends)', 'Ickle Ronnikins (by Fred and George Weasley)', 'Wheezy (by Dobby)', 'Won-Won (by Lavender Brown)', 'Weasel (by Draco Malfoy)', 'Vincent Crabbe (under disguise of Polyjuice)', 'Harry Potter (under disguise of Polyjuice)', 'Reg Cattermole (under disguise of Polyjuice)', 'Stan Shunpike', 'Barny Weasley', 'Dragomir Despard', 'Roonil Wazlib (due to a typo caused by a faulty quill pen)'], 'Title(s)': ['Prefect', 'Keeper'], 'Species': 'Human', 'Gender': 'Male', 'Height': '5\\' 9\"', 'Weight': '152 lbs', 'Hair colour': 'Red', 'Eye colour': 'Blue', 'Skin colour': 'Pale', 'Family members': ['Septimus Weasley (paternal grandfather) †', 'Cedrella Weasley (née Black) (paternal grandmother) †', 'Mr Prewett (maternal grandfather)', 'Mrs Prewett (maternal grandmother)', 'Arthur Weasley (father)', 'Molly Weasley (née Prewett) (mother)', 'Bill Weasley (older brother)', 'Charlie Weasley (older brother)', 'Percy Weasley (older brother)', 'Fred Weasley I (older brother) †', 'George Weasley (older brother)', 'Ginevra Potter (née Weasley) (younger sister)', 'Hermione Granger (wife)', 'Rose Granger-Weasley (daughter)', 'Hugo Granger-Weasley (son)', 'Tessie (great-aunt)', 'Gideon Prewett (maternal uncle) †', 'Fabian Prewett (maternal uncle) †', 'Bilius (uncle) †', 'Uncle', 'Cousin', 'Paternal uncles', 'Harry Potter (brother-in-law)', 'James Potter II (nephew)', 'Albus Potter (nephew)', 'Lily L. Potter (niece)', 'Fleur Weasley (née Delacour) (sister-in-law)', 'Victoire Weasley (niece)', 'Dominique Weasley (niece)', 'Louis Weasley (nephew)', 'Audrey Weasley (sister-in-law)', 'Molly Weasley II (niece)', 'Lucy Weasley (niece)', 'Angelina Weasley (née Johnson) (sister-in-law)', 'Fred Weasley II (nephew)', 'Roxanne Weasley (niece)', 'Mr Granger (father-in-law)', 'Mrs Granger (mother-in-law)', 'Weasley family', 'House of Black'], 'Romances': ['Lavender Brown (ex-girlfriend)', 'Hermione Granger (wife)'], 'Boggart': 'Aragog', 'Wand': ['12\", Ash, unicorn tail hair', '14\", Willow, unicorn tail hair', '9¼\", Chestnut, Dragon heartstring'], 'Patronus': 'Jack Russell terrier', 'Occupation': ['Auror (formerly)', \"Weasleys' Wizard Wheezes co-manager\"], 'House': 'Gryffindor', 'Loyalty': ['Weasley family', 'Granger family', 'Prewett family', 'Potter family', \"Dumbledore's Army\", 'Order of the Phoenix', 'British Ministry of MagicAuror Department', 'Auror Department', 'Hogwarts School of Witchcraft and WizardryGryffindorGryffindor Quidditch team', 'Gryffindor', 'Gryffindor Quidditch team', 'S.P.E.W.', \"Weasleys' Wizard Wheezes\", 'Chudley Cannons']}\n",
    "Mytrle = {'id': '62', 'name': 'Myrtle Elizabeth Warren', 'Born': 'Between 14 June, 1928 and 13 June, 1929', 'Died': \"13 June, 1943 (aged 14)Moaning Myrtle's Bathroom, Hogwarts Castle, Highlands, Scotland, Great Britain\", 'Blood status': 'Muggle-born', 'Nationality': 'British or Irish', 'Also known as': 'Moaning Myrtle', 'Species': ['Human (formerly)', 'Ghost'], 'Gender': 'Female', 'Skin colour': 'Pale', 'Family members': ['Mr Warren (father)', 'Mrs Warren (mother)'], 'Romances': ['Harry Potter', 'Draco Malfoy'], 'House': 'Ravenclaw', 'Loyalty': ['Warren family', 'Hogwarts School of Witchcraft and WizardryRavenclaw', 'Ravenclaw', 'Harry Potter', 'Draco Malfoy', 'Albus Potter', 'Scorpius Malfoy']}"
   ]
  },
  {
   "cell_type": "code",
   "execution_count": 9,
   "metadata": {},
   "outputs": [],
   "source": [
    "person = []\n",
    "for d in data_:\n",
    "    if int(d['id']) not in drop_:\n",
    "        person.append(d)"
   ]
  },
  {
   "cell_type": "code",
   "execution_count": 10,
   "metadata": {},
   "outputs": [],
   "source": [
    "person.append(Alberforth)\n",
    "person.append(Voldemort)\n",
    "person.append(Ginny)\n",
    "person.append(Ron)\n",
    "person.append(Mytrle)\n",
    "person.append(Bartemius)\n",
    "person.append(Lily)\n",
    "person.append(Dolores)"
   ]
  },
  {
   "cell_type": "code",
   "execution_count": null,
   "metadata": {},
   "outputs": [],
   "source": [
    "with open('data/people_map.txt','w') as f:\n",
    "    \n",
    "    for i in sorted({int(i['id']):i['name'] for i in person}.items(), key = lambda x : x[0], reverse = False):\n",
    "        \n",
    "        line = str(i[0]) + '\\t' + str(i[1]) + '\\n'\n",
    "        f.write(line) "
   ]
  },
  {
   "cell_type": "code",
   "execution_count": null,
   "metadata": {},
   "outputs": [],
   "source": [
    "with open('data/blood_obs.txt','w') as f:\n",
    "    \n",
    "    for i in person:\n",
    "        blood = 0\n",
    "        if 'Blood status' in i.keys():\n",
    "            if i['Blood status'] == 'Pure-blood':\n",
    "                blood = 1\n",
    "        line = i['id'] + '\\t' + str(blood) + '\\n'\n",
    "        f.write(line) "
   ]
  },
  {
   "cell_type": "code",
   "execution_count": null,
   "metadata": {},
   "outputs": [],
   "source": [
    "with open('data/blood_map.txt','w') as f:\n",
    "    f.write('0' + '\\t' + 'other' + '\\n')\n",
    "    f.write('1' + '\\t' + 'pure' + '\\n')"
   ]
  },
  {
   "cell_type": "code",
   "execution_count": null,
   "metadata": {},
   "outputs": [],
   "source": [
    "with open('data/loyalty_obs.txt','w') as f:\n",
    "    for i in person:\n",
    "        loyalty = 0\n",
    "        evil_org = ['death','eaters','voldemort','malfoy']\n",
    "        if 'Loyalty' in i.keys():\n",
    "            for l in i['Loyalty']:\n",
    "                for e in evil_org:\n",
    "                    if e in l.lower():\n",
    "                        loyalty = 1\n",
    "        line = i['id'] + '\\t' + str(loyalty) + '\\n'\n",
    "        f.write(line)"
   ]
  },
  {
   "cell_type": "code",
   "execution_count": null,
   "metadata": {},
   "outputs": [],
   "source": [
    "with open('data/loyalty_maps.txt','w') as f:\n",
    "    f.write('0' + '\\t' + 'Harry' + '\\n')\n",
    "    f.write('1' + '\\t' + 'Voldemort' + '\\n')"
   ]
  },
  {
   "cell_type": "code",
   "execution_count": null,
   "metadata": {},
   "outputs": [],
   "source": [
    "with open('data/house_map.txt','w') as f:\n",
    "    f.write('1' + '\\t' + 'Gryffindor' + '\\n')\n",
    "    f.write('2' + '\\t' + 'Slytherin' + '\\n')\n",
    "    f.write('3' + '\\t' + 'Ravenclaw' + '\\n')\n",
    "    f.write('4' + '\\t' + 'Hufflepuff' + '\\n')"
   ]
  },
  {
   "cell_type": "code",
   "execution_count": null,
   "metadata": {},
   "outputs": [],
   "source": [
    "gold_ = []\n",
    "no_ = []\n",
    "\n",
    "for i in person:\n",
    "    \n",
    "    if 'House' in i.keys():\n",
    "        house = i['House'].split(' (')[0]\n",
    "        if house == 'Gryffindor': \n",
    "            gold_.append((i['id'],'1'))\n",
    "            continue\n",
    "        if house == 'Slytherin': \n",
    "            gold_.append((i['id'],'2'))\n",
    "            continue\n",
    "        if house == 'Ravenclaw': \n",
    "            gold_.append((i['id'],'3'))\n",
    "            continue\n",
    "        if house == 'Hufflepuff': \n",
    "            gold_.append((i['id'],'4'))\n",
    "            continue\n",
    "            \n",
    "    else:\n",
    "        no_.append(i['id'])\n",
    "\n",
    "no_.append('37')"
   ]
  },
  {
   "cell_type": "code",
   "execution_count": null,
   "metadata": {},
   "outputs": [],
   "source": [
    "with open('data/house_truth.txt','w') as f:\n",
    "    for i in sorted(gold_, key = lambda x : int(x[0]), reverse = False):\n",
    "        f.write(i[0] + '\\t' + i[1] + '\\n')"
   ]
  },
  {
   "cell_type": "code",
   "execution_count": null,
   "metadata": {},
   "outputs": [],
   "source": [
    "with open('data/house_target.txt','w') as f:\n",
    "    for i in person:\n",
    "        if i['id'] not in no_:\n",
    "            f.write(i['id'] + '\\t' + '1' + '\\n')\n",
    "            f.write(i['id'] + '\\t' + '2' + '\\n')\n",
    "            f.write(i['id'] + '\\t' + '3' + '\\n')\n",
    "            f.write(i['id'] + '\\t' + '4' + '\\n')"
   ]
  },
  {
   "cell_type": "code",
   "execution_count": 11,
   "metadata": {},
   "outputs": [],
   "source": [
    "import csv\n",
    "\n",
    "likes,hates = [],[]\n",
    "with open('relations.csv') as f:\n",
    "    csv_reader = csv.DictReader(f)\n",
    "    for row in csv_reader:\n",
    "\n",
    "        p1 = row['source']\n",
    "        p2 = row['target']\n",
    "        if int(p1) not in drop_:\n",
    "            if int(p2) not in drop_:\n",
    "                if row['type'] == '-':\n",
    "                    hates.append(str(p1) + '\\t' + str(p2) + '\\n')\n",
    "                else:\n",
    "                    likes.append(str(p1) + '\\t' + str(p2) + '\\n')"
   ]
  },
  {
   "cell_type": "code",
   "execution_count": 12,
   "metadata": {},
   "outputs": [
    {
     "data": {
      "text/plain": [
       "['0\\t1\\n',\n",
       " '0\\t25\\n',\n",
       " '1\\t0\\n',\n",
       " '1\\t25\\n',\n",
       " '1\\t33\\n',\n",
       " '1\\t34\\n',\n",
       " '1\\t38\\n',\n",
       " '1\\t47\\n',\n",
       " '2\\t21\\n',\n",
       " '5\\t21\\n',\n",
       " '5\\t39\\n',\n",
       " '6\\t7\\n',\n",
       " '7\\t6\\n',\n",
       " '7\\t21\\n',\n",
       " '7\\t36\\n',\n",
       " '7\\t37\\n',\n",
       " '7\\t39\\n',\n",
       " '7\\t47\\n',\n",
       " '8\\t25\\n',\n",
       " '11\\t13\\n',\n",
       " '11\\t14\\n',\n",
       " '11\\t25\\n',\n",
       " '11\\t38\\n',\n",
       " '11\\t42\\n',\n",
       " '11\\t46\\n',\n",
       " '11\\t49\\n',\n",
       " '11\\t49\\n',\n",
       " '12\\t39\\n',\n",
       " '12\\t22\\n',\n",
       " '13\\t11\\n',\n",
       " '13\\t39\\n',\n",
       " '13\\t41\\n',\n",
       " '14\\t11\\n',\n",
       " '14\\t39\\n',\n",
       " '15\\t1\\n',\n",
       " '15\\t22\\n',\n",
       " '15\\t36\\n',\n",
       " '15\\t38\\n',\n",
       " '15\\t39\\n',\n",
       " '15\\t40\\n',\n",
       " '15\\t53\\n',\n",
       " '15\\t54\\n',\n",
       " '18\\t11\\n',\n",
       " '18\\t39\\n',\n",
       " '18\\t50\\n',\n",
       " '20\\t39\\n',\n",
       " '21\\t38\\n',\n",
       " '21\\t32\\n',\n",
       " '21\\t15\\n',\n",
       " '21\\t20\\n',\n",
       " '25\\t1\\n',\n",
       " '25\\t39\\n',\n",
       " '25\\t48\\n',\n",
       " '25\\t56\\n',\n",
       " '28\\t32\\n',\n",
       " '31\\t38\\n',\n",
       " '32\\t39\\n',\n",
       " '32\\t21\\n',\n",
       " '33\\t39\\n',\n",
       " '36\\t49\\n',\n",
       " '37\\t7\\n',\n",
       " '7\\t37\\n',\n",
       " '38\\t1\\n',\n",
       " '1\\t38\\n',\n",
       " '38\\t40\\n',\n",
       " '40\\t38\\n',\n",
       " '38\\t41\\n',\n",
       " '41\\t38\\n',\n",
       " '38\\t39\\n',\n",
       " '39\\t38\\n',\n",
       " '40\\t38\\n',\n",
       " '38\\t40\\n',\n",
       " '42\\t39\\n',\n",
       " '39\\t42\\n',\n",
       " '42\\t21\\n',\n",
       " '21\\t42\\n',\n",
       " '42\\t21\\n',\n",
       " '21\\t42\\n',\n",
       " '42\\t11\\n',\n",
       " '11\\t42\\n',\n",
       " '43\\t43\\n',\n",
       " '46\\t39\\n',\n",
       " '39\\t46\\n',\n",
       " '46\\t11\\n',\n",
       " '11\\t46\\n',\n",
       " '49\\t39\\n',\n",
       " '39\\t49\\n',\n",
       " '49\\t21\\n',\n",
       " '21\\t49\\n',\n",
       " '49\\t21\\n',\n",
       " '21\\t49\\n',\n",
       " '49\\t11\\n',\n",
       " '11\\t49\\n',\n",
       " '50\\t33\\n',\n",
       " '53\\t38\\n',\n",
       " '54\\t38\\n',\n",
       " '56\\t33\\n']"
      ]
     },
     "execution_count": 12,
     "metadata": {},
     "output_type": "execute_result"
    }
   ],
   "source": [
    "hates"
   ]
  },
  {
   "cell_type": "code",
   "execution_count": 14,
   "metadata": {},
   "outputs": [],
   "source": [
    "with open('sorting_hat/data/hates_obs.txt','w') as f:\n",
    "    for r in hates:\n",
    "        f.write(r)\n",
    "with open('sorting_hat/data/likes_obs.txt','w') as f:\n",
    "    for r in likes:\n",
    "        f.write(r)"
   ]
  },
  {
   "cell_type": "code",
   "execution_count": null,
   "metadata": {},
   "outputs": [],
   "source": []
  }
 ],
 "metadata": {
  "kernelspec": {
   "display_name": "Python 3",
   "language": "python",
   "name": "python3"
  },
  "language_info": {
   "codemirror_mode": {
    "name": "ipython",
    "version": 3
   },
   "file_extension": ".py",
   "mimetype": "text/x-python",
   "name": "python",
   "nbconvert_exporter": "python",
   "pygments_lexer": "ipython3",
   "version": "3.7.2"
  }
 },
 "nbformat": 4,
 "nbformat_minor": 4
}
