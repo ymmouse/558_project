{
 "cells": [
  {
   "cell_type": "code",
   "execution_count": null,
   "metadata": {},
   "outputs": [],
   "source": [
    "import json"
   ]
  },
  {
   "cell_type": "markdown",
   "metadata": {},
   "source": [
    "# Wikidata"
   ]
  },
  {
   "cell_type": "code",
   "execution_count": null,
   "metadata": {},
   "outputs": [],
   "source": [
    "with open('wikidata/wizards/data/info.json') as f:\n",
    "    info = json.load(f)"
   ]
  },
  {
   "cell_type": "code",
   "execution_count": null,
   "metadata": {},
   "outputs": [],
   "source": [
    "with open('wikidata/wizards/data/relation.json') as f:\n",
    "    relation = json.load(f)"
   ]
  },
  {
   "cell_type": "code",
   "execution_count": null,
   "metadata": {},
   "outputs": [],
   "source": [
    "info[0]"
   ]
  },
  {
   "cell_type": "markdown",
   "metadata": {},
   "source": [
    "## merge entity wikidata\n",
    "\n",
    "- needeed merged first since there the way wikidata display one entity with different attributes values\n",
    "- below is an example with entity `Ron Weasley` with `red hair` and `orange hair`"
   ]
  },
  {
   "cell_type": "code",
   "execution_count": null,
   "metadata": {
    "scrolled": true
   },
   "outputs": [],
   "source": [
    "info[0]['characterLabel'],info[0]['hair_colorLabel'],info[1]['characterLabel'],info[1]['hair_colorLabel']"
   ]
  },
  {
   "cell_type": "markdown",
   "metadata": {},
   "source": [
    "### attritbutes"
   ]
  },
  {
   "cell_type": "code",
   "execution_count": null,
   "metadata": {},
   "outputs": [],
   "source": [
    "info[0].keys()"
   ]
  },
  {
   "cell_type": "code",
   "execution_count": null,
   "metadata": {},
   "outputs": [],
   "source": [
    "wikidata = {}\n",
    "\n",
    "indicator = -1\n",
    "for i,entity0 in enumerate(info):\n",
    "    if i < indicator:\n",
    "        continue\n",
    "        \n",
    "    name = entity0['characterLabel']\n",
    "    wikidata[name] = {}\n",
    "    \n",
    "    idx = [i]\n",
    "    for j,entity1 in enumerate(info[i+1:]):\n",
    "        if entity1['characterLabel'] == name:\n",
    "            idx.append(j+i+1)\n",
    "        else:\n",
    "            indicator = j+i+1\n",
    "            break\n",
    "            \n",
    "    wikidata[name]['info'] = idx"
   ]
  },
  {
   "cell_type": "code",
   "execution_count": null,
   "metadata": {},
   "outputs": [],
   "source": [
    "relation[0].keys()"
   ]
  },
  {
   "cell_type": "code",
   "execution_count": null,
   "metadata": {},
   "outputs": [],
   "source": [
    "indicator = -1\n",
    "for i,entity0 in enumerate(relation):\n",
    "    if i < indicator:\n",
    "        continue\n",
    "        \n",
    "    name = entity0['characterLabel']\n",
    "    \n",
    "    idx = [i]\n",
    "    for j,entity1 in enumerate(relation[i+1:]):\n",
    "        if entity1['characterLabel'] == name:\n",
    "            idx.append(j+i+1)\n",
    "        else:\n",
    "            indicator = j+i+1\n",
    "            break\n",
    "            \n",
    "    wikidata[name]['relation'] = idx"
   ]
  },
  {
   "cell_type": "code",
   "execution_count": null,
   "metadata": {},
   "outputs": [],
   "source": [
    "wikidata"
   ]
  },
  {
   "cell_type": "markdown",
   "metadata": {},
   "source": [
    "# Fandom data"
   ]
  },
  {
   "cell_type": "code",
   "execution_count": null,
   "metadata": {},
   "outputs": [],
   "source": [
    "with open('fandom/fandom_data/Gryffindors.json') as f:\n",
    "    Gryffindors = json.load(f)\n",
    "with open('fandom/fandom_data/Hufflepuffs.json') as f:\n",
    "    Hufflepuffs = json.load(f)\n",
    "with open('fandom/fandom_data/Ravenclaws.json') as f:\n",
    "    Ravenclaws = json.load(f)\n",
    "with open('fandom/fandom_data/Slytherins.json') as f:\n",
    "    Slytherins = json.load(f)"
   ]
  },
  {
   "cell_type": "code",
   "execution_count": null,
   "metadata": {},
   "outputs": [],
   "source": [
    "Gryffindors[0].keys()"
   ]
  },
  {
   "cell_type": "code",
   "execution_count": null,
   "metadata": {},
   "outputs": [],
   "source": [
    "for k in list(Gryffindors[0].keys())[1:]:\n",
    "    print(list(Gryffindors[0][k].keys()))"
   ]
  },
  {
   "cell_type": "markdown",
   "metadata": {},
   "source": [
    "# Export Data\n",
    "\n",
    "## entity attributes\n",
    "\n",
    "| index | name  | blood_status |hair_color | eye_color | wand | patronus | occupation | loyalty | relation+| relation- | house |\n",
    "| :- | :-   | :-          | :-       | :-       | :-  | :-      | :-  | :-  | :- | :- | -: |\n",
    "| ***Int*** | ***str*** |  ***str***| ***str***  |  ***str*** |  ***List***  |  ***str*** | ***List***  |    ***List***   |   ***List***  | ***List*** | ***str*** | \n",
    "\n",
    "\n",
    "\n",
    "\n"
   ]
  },
  {
   "cell_type": "code",
   "execution_count": null,
   "metadata": {},
   "outputs": [],
   "source": [
    "def merge_fandom(data,house):\n",
    "    \n",
    "    results_ = []\n",
    "    \n",
    "    for i in data:\n",
    "\n",
    "        name = i['name']\n",
    "        # name = i['name'].split(' ')[0] + ' ' + i['name'].split(' ')[-1]\n",
    "        entity = { 'name'     : name,\n",
    "                    'blood_status': '',\n",
    "                    'hair_color'  : '',\n",
    "                    'eye_color'   : '',\n",
    "                    'patronus'    : '',\n",
    "                    'wand'        : [],\n",
    "                    'occupation'  : [],\n",
    "                    'loyalty'     : [],\n",
    "                    'relation+'   : [],\n",
    "                    'relation-'   : []\n",
    "                            }\n",
    "\n",
    "\n",
    "        if 'Biographical information' in i.keys():      \n",
    "            if 'Blood status' in i['Biographical information'].keys():\n",
    "                entity['blood_status'] = i['Biographical information']['Blood status']\n",
    "\n",
    "        if 'Physical information' in i.keys():    \n",
    "            if 'Hair colour' in i['Physical information'].keys():\n",
    "                entity['hair_color'] = i['Physical information']['Hair colour']\n",
    "            if 'Eye colour' in i['Physical information'].keys():\n",
    "                entity['eye_color'] = i['Physical information']['Eye colour']\n",
    "\n",
    "        if 'Magical characteristics' in i.keys():\n",
    "            if 'Patronus' in i['Magical characteristics'].keys():\n",
    "                entity['patronus'] = i['Magical characteristics']['Patronus']\n",
    "            if 'Wand' in i['Magical characteristics'].keys():\n",
    "                entity['wand'] = i['Magical characteristics']['Wand']\n",
    "\n",
    "        if 'Affiliation' in i.keys():    \n",
    "            if 'Occupation' in i['Affiliation'].keys():\n",
    "                entity['occupation'] = i['Affiliation']['Occupation']\n",
    "            if 'Loyalty' in i['Affiliation'].keys():\n",
    "                entity['loyalty'] = i['Affiliation']['Loyalty']\n",
    "\n",
    "        if 'Relationship information' in i.keys():\n",
    "            if 'Family members' in i['Relationship information'].keys():\n",
    "                entity['relation'] = i['Relationship information']['Family members']\n",
    "                # entity['relation'] = [x.split(' ()')[0] for x in i['Relationship information']['Family members']]\n",
    "\n",
    "        entity['house'] = house\n",
    "        \n",
    "        #去除独立的node\n",
    "        #if entity['relation'] != []:\n",
    "        results_.append(entity)\n",
    "        \n",
    "    return results_"
   ]
  },
  {
   "cell_type": "code",
   "execution_count": null,
   "metadata": {},
   "outputs": [],
   "source": [
    "data_ = []\n",
    "data_ += merge_fandom(Gryffindors,'Gryffindors')\n",
    "data_ += merge_fandom(Hufflepuffs,'Hufflepuffs')\n",
    "data_ += merge_fandom(Ravenclaws,'Ravenclaws')\n",
    "data_ += merge_fandom(Slytherins,'Slytherins')"
   ]
  },
  {
   "cell_type": "code",
   "execution_count": null,
   "metadata": {},
   "outputs": [],
   "source": [
    "#如果去除relation为空的 是204\n",
    "len(data_)"
   ]
  },
  {
   "cell_type": "markdown",
   "metadata": {},
   "source": [
    "### data generation\n",
    "- 用wikidata query 补全enemy那一栏\n",
    "- 用enumerate(data_)生成index那一栏\n",
    "- 看有没有entity是完全没有relation的 如果有就去除 因为生成的图也会是独立的一个node 所以没有意义\n",
    "- 可以再参考一下github和kaggle的data 看看有什么要加的或者可以用的\n",
    "- 生成rdf\n",
    "\n",
    "### neo4j\n",
    "- 用生成的data做图\n",
    "- 图出来看看可不可以搞个search 可以看到specific 人物的所有特征和relation\n",
    "\n",
    "### psl\n",
    "- 想想怎么写rules\n",
    "- attribites embedding\n",
    "    - relation可以写成 p1,p2,+ 或者 p1,p2,-\n",
    "    - loyalty 也可以写成这样\n",
    "    - blood 可以写成 pureblood,1  muggle,0  half,0.5\n",
    "    - etc...\n"
   ]
  },
  {
   "cell_type": "code",
   "execution_count": null,
   "metadata": {},
   "outputs": [],
   "source": []
  }
 ],
 "metadata": {
  "kernelspec": {
   "display_name": "Python 3",
   "language": "python",
   "name": "python3"
  },
  "language_info": {
   "codemirror_mode": {
    "name": "ipython",
    "version": 3
   },
   "file_extension": ".py",
   "mimetype": "text/x-python",
   "name": "python",
   "nbconvert_exporter": "python",
   "pygments_lexer": "ipython3",
   "version": "3.7.2"
  }
 },
 "nbformat": 4,
 "nbformat_minor": 4
}
