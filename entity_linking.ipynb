{
 "cells": [
  {
   "cell_type": "code",
   "execution_count": 1,
   "metadata": {},
   "outputs": [],
   "source": [
    "import json"
   ]
  },
  {
   "cell_type": "markdown",
   "metadata": {},
   "source": [
    "# Wikidata"
   ]
  },
  {
   "cell_type": "code",
   "execution_count": 2,
   "metadata": {},
   "outputs": [],
   "source": [
    "with open('wikidata/wizards/data/info.json') as f:\n",
    "    info = json.load(f)"
   ]
  },
  {
   "cell_type": "code",
   "execution_count": 3,
   "metadata": {},
   "outputs": [],
   "source": [
    "with open('wikidata/wizards/data/relation.json') as f:\n",
    "    relation = json.load(f)"
   ]
  },
  {
   "cell_type": "code",
   "execution_count": 4,
   "metadata": {},
   "outputs": [
    {
     "data": {
      "text/plain": [
       "{'character': 'http://www.wikidata.org/entity/Q173998',\n",
       " 'characterLabel': 'Ron Weasley',\n",
       " 'genderLabel': 'male',\n",
       " 'blood_statusLabel': 'pureblood',\n",
       " 'DOBLabel': '1980-03-01T00:00:00Z',\n",
       " 'POBLabel': 'Devon',\n",
       " 'hair_colorLabel': 'red hair',\n",
       " 'educationLabel': 'Hogwarts',\n",
       " 'employerLabel': \"Weasleys' Wizard Wheezes\",\n",
       " 'membershipLabel': \"Dumbledore's Army\"}"
      ]
     },
     "execution_count": 4,
     "metadata": {},
     "output_type": "execute_result"
    }
   ],
   "source": [
    "info[0]"
   ]
  },
  {
   "cell_type": "markdown",
   "metadata": {},
   "source": [
    "## merge entity wikidata\n",
    "\n",
    "- needeed merged first since there the way wikidata display one entity with different attributes values\n",
    "- below is an example with entity `Ron Weasley` with `red hair` and `orange hair`"
   ]
  },
  {
   "cell_type": "code",
   "execution_count": 5,
   "metadata": {
    "scrolled": true
   },
   "outputs": [
    {
     "data": {
      "text/plain": [
       "('Ron Weasley', 'red hair', 'Ron Weasley', 'orange hair')"
      ]
     },
     "execution_count": 5,
     "metadata": {},
     "output_type": "execute_result"
    }
   ],
   "source": [
    "info[0]['characterLabel'],info[0]['hair_colorLabel'],info[1]['characterLabel'],info[1]['hair_colorLabel']"
   ]
  },
  {
   "cell_type": "markdown",
   "metadata": {},
   "source": [
    "### attritbutes"
   ]
  },
  {
   "cell_type": "code",
   "execution_count": 6,
   "metadata": {},
   "outputs": [
    {
     "data": {
      "text/plain": [
       "dict_keys(['character', 'characterLabel', 'genderLabel', 'blood_statusLabel', 'DOBLabel', 'POBLabel', 'hair_colorLabel', 'educationLabel', 'employerLabel', 'membershipLabel'])"
      ]
     },
     "execution_count": 6,
     "metadata": {},
     "output_type": "execute_result"
    }
   ],
   "source": [
    "info[0].keys()"
   ]
  },
  {
   "cell_type": "code",
   "execution_count": 7,
   "metadata": {},
   "outputs": [],
   "source": [
    "wikidata = {}\n",
    "\n",
    "indicator = -1\n",
    "for i,entity0 in enumerate(info):\n",
    "    if i < indicator:\n",
    "        continue\n",
    "        \n",
    "    name = entity0['characterLabel']\n",
    "    wikidata[name] = {}\n",
    "    \n",
    "    idx = [i]\n",
    "    for j,entity1 in enumerate(info[i+1:]):\n",
    "        if entity1['characterLabel'] == name:\n",
    "            idx.append(j+i+1)\n",
    "        else:\n",
    "            indicator = j+i+1\n",
    "            break\n",
    "            \n",
    "    wikidata[name]['info'] = idx"
   ]
  },
  {
   "cell_type": "code",
   "execution_count": 8,
   "metadata": {},
   "outputs": [
    {
     "data": {
      "text/plain": [
       "dict_keys(['character', 'characterLabel', 'fatherLabel', 'motherLabel', 'spouseLabel', 'childLabel', 'siblingLabel', 'in_relationshipLabel', 'enemyLabel'])"
      ]
     },
     "execution_count": 8,
     "metadata": {},
     "output_type": "execute_result"
    }
   ],
   "source": [
    "relation[0].keys()"
   ]
  },
  {
   "cell_type": "code",
   "execution_count": 9,
   "metadata": {},
   "outputs": [],
   "source": [
    "indicator = -1\n",
    "for i,entity0 in enumerate(relation):\n",
    "    if i < indicator:\n",
    "        continue\n",
    "        \n",
    "    name = entity0['characterLabel']\n",
    "    \n",
    "    idx = [i]\n",
    "    for j,entity1 in enumerate(relation[i+1:]):\n",
    "        if entity1['characterLabel'] == name:\n",
    "            idx.append(j+i+1)\n",
    "        else:\n",
    "            indicator = j+i+1\n",
    "            break\n",
    "            \n",
    "    wikidata[name]['relation'] = idx"
   ]
  },
  {
   "cell_type": "markdown",
   "metadata": {},
   "source": [
    "# Fandom data"
   ]
  },
  {
   "cell_type": "code",
   "execution_count": 96,
   "metadata": {},
   "outputs": [
    {
     "data": {
      "text/plain": [
       "{'character': 'http://www.wikidata.org/entity/Q106392724',\n",
       " 'characterLabel': 'Eldred Worple'}"
      ]
     },
     "execution_count": 96,
     "metadata": {},
     "output_type": "execute_result"
    }
   ],
   "source": [
    "relation[505]"
   ]
  },
  {
   "cell_type": "code",
   "execution_count": 36,
   "metadata": {},
   "outputs": [],
   "source": [
    "with open('fandom/fandom_data/Gryffindors.json') as f:\n",
    "    Gryffindors = json.load(f)\n",
    "with open('fandom/fandom_data/Hufflepuffs.json') as f:\n",
    "    Hufflepuffs = json.load(f)\n",
    "with open('fandom/fandom_data/Ravenclaws.json') as f:\n",
    "    Ravenclaws = json.load(f)\n",
    "with open('fandom/fandom_data/Slytherins.json') as f:\n",
    "    Slytherins = json.load(f)"
   ]
  },
  {
   "cell_type": "code",
   "execution_count": 40,
   "metadata": {},
   "outputs": [],
   "source": [
    "max_idx = 0\n",
    "max_len = 0\n",
    "\n",
    "for i in range(len(Gryffindors)):\n",
    "    l = len(Gryffindors[i].keys())\n",
    "    \n",
    "    if l > max_len:\n",
    "        max_idx = i\n",
    "        max_len = l"
   ]
  },
  {
   "cell_type": "code",
   "execution_count": 41,
   "metadata": {},
   "outputs": [
    {
     "data": {
      "text/plain": [
       "dict_keys(['name', 'Biographical information', 'Physical information', 'Relationship information', 'Magical characteristics', 'Affiliation'])"
      ]
     },
     "execution_count": 41,
     "metadata": {},
     "output_type": "execute_result"
    }
   ],
   "source": [
    "Gryffindors[max_idx].keys()"
   ]
  },
  {
   "cell_type": "code",
   "execution_count": 42,
   "metadata": {},
   "outputs": [
    {
     "name": "stdout",
     "output_type": "stream",
     "text": [
      "['Born', 'Blood status', 'Nationality', 'Also known as', 'Title(s)']\n",
      "['Species', 'Gender', 'Hair colour', 'Skin colour']\n",
      "['Family members']\n",
      "['Boggart', 'Wand', 'Patronus']\n",
      "['House', 'Loyalty']\n"
     ]
    }
   ],
   "source": [
    "for k in list(Gryffindors[max_idx].keys())[1:]:\n",
    "    print(list(Gryffindors[max_idx][k].keys()))"
   ]
  },
  {
   "cell_type": "markdown",
   "metadata": {},
   "source": [
    "# Export Data\n",
    "\n",
    "## entity attributes\n",
    "\n",
    "| index | name  | blood_status |hair_color | eye_color | wand | patronus | occupation | loyalty | relation+| relation- | house |\n",
    "| :- | :-   | :-          | :-       | :-       | :-  | :-      | :-  | :-  | :- | :- | -: |\n",
    "| ***Int*** | ***str*** |  ***str***| ***str***  |  ***str*** |  ***List***  |  ***str*** | ***List***  |    ***List***   |   ***List***  | ***List*** | ***str*** | \n",
    "\n",
    "\n",
    "\n",
    "\n"
   ]
  },
  {
   "cell_type": "code",
   "execution_count": 149,
   "metadata": {},
   "outputs": [],
   "source": [
    "def merge_fandom(data,house):\n",
    "    \n",
    "    results_ = []\n",
    "    \n",
    "    for i in data:\n",
    "\n",
    "        name = i['name']\n",
    "        # name = i['name'].split(' ')[0] + ' ' + i['name'].split(' ')[-1]\n",
    "        entity = { 'name'     : name,\n",
    "                    'blood_status': '',\n",
    "                    'hair_color'  : '',\n",
    "                    'eye_color'   : '',\n",
    "                    'patronus'    : '',\n",
    "                    'wand'        : [],\n",
    "                    'occupation'  : [],\n",
    "                    'loyalty'     : [],\n",
    "                    'relation+'   : [],\n",
    "                    'relation-'   : []\n",
    "                            }\n",
    "\n",
    "\n",
    "        if 'Biographical information' in i.keys():      \n",
    "            if 'Blood status' in i['Biographical information'].keys():\n",
    "                entity['blood_status'] = i['Biographical information']['Blood status']\n",
    "\n",
    "        if 'Physical information' in i.keys():    \n",
    "            if 'Hair colour' in i['Physical information'].keys():\n",
    "                entity['hair_color'] = i['Physical information']['Hair colour']\n",
    "            if 'Eye colour' in i['Physical information'].keys():\n",
    "                entity['eye_color'] = i['Physical information']['Eye colour']\n",
    "\n",
    "        if 'Magical characteristics' in i.keys():\n",
    "            if 'Patronus' in i['Magical characteristics'].keys():\n",
    "                entity['patronus'] = i['Magical characteristics']['Patronus']\n",
    "            if 'Wand' in i['Magical characteristics'].keys():\n",
    "                entity['wand'] = i['Magical characteristics']['Wand']\n",
    "\n",
    "        if 'Affiliation' in i.keys():    \n",
    "            if 'Occupation' in i['Affiliation'].keys():\n",
    "                entity['occupation'] = i['Affiliation']['Occupation']\n",
    "            if 'Loyalty' in i['Affiliation'].keys():\n",
    "                entity['loyalty'] = i['Affiliation']['Loyalty']\n",
    "\n",
    "        if 'Relationship information' in i.keys():\n",
    "            if 'Family members' in i['Relationship information'].keys():\n",
    "                entity['relation+'] = i['Relationship information']['Family members']\n",
    "                # entity['relation'] = [x.split(' ()')[0] for x in i['Relationship information']['Family members']]\n",
    "\n",
    "        entity['house'] = house\n",
    "        \n",
    "        #去除独立的node\n",
    "        #if entity['relation'] != []:\n",
    "        results_.append(entity)\n",
    "        \n",
    "    return results_"
   ]
  },
  {
   "cell_type": "code",
   "execution_count": 150,
   "metadata": {},
   "outputs": [],
   "source": [
    "data_ = []\n",
    "data_ += merge_fandom(Gryffindors,'Gryffindors')\n",
    "data_ += merge_fandom(Hufflepuffs,'Hufflepuffs')\n",
    "data_ += merge_fandom(Ravenclaws,'Ravenclaws')\n",
    "data_ += merge_fandom(Slytherins,'Slytherins')"
   ]
  },
  {
   "cell_type": "code",
   "execution_count": 138,
   "metadata": {},
   "outputs": [
    {
     "data": {
      "text/plain": [
       "812"
      ]
     },
     "execution_count": 138,
     "metadata": {},
     "output_type": "execute_result"
    }
   ],
   "source": [
    "#如果去除relation为空的 是204\n",
    "len(data_)"
   ]
  },
  {
   "cell_type": "code",
   "execution_count": 140,
   "metadata": {},
   "outputs": [],
   "source": [
    "import requests\n",
    "from time import sleep"
   ]
  },
  {
   "cell_type": "code",
   "execution_count": 153,
   "metadata": {
    "scrolled": true
   },
   "outputs": [
    {
     "name": "stdout",
     "output_type": "stream",
     "text": [
      "<Response [400]>\n",
      "<Response [400]>\n",
      "<Response [400]>\n",
      "<Response [400]>\n",
      "<Response [400]>\n",
      "<Response [400]>\n"
     ]
    }
   ],
   "source": [
    "for i in range(len(data_)):\n",
    "    person = data_[i]\n",
    "    name = person['name']\n",
    "    wikidata_key = person['name']\n",
    "    name_lst = name.split(' ')\n",
    "    \n",
    "    if len(name_lst) == 3:\n",
    "        name = name_lst[0] + '_' + name_lst[-1]\n",
    "        wikidata_key = name_lst[0] + ' ' + name_lst[-1]\n",
    "    else:\n",
    "        name = name.replace(' ', '_')\n",
    "        \n",
    "    if wikidata_key == 'Ronald Weasley': #暂时只看见了这一个 wikidata里名字是简写\n",
    "        wikidata_key = 'Ron Weasley'\n",
    "    if wikidata_key in wikidata.keys():\n",
    "        relations = wikidata[wikidata_key]['relation']\n",
    "        \n",
    "        for r in relations:\n",
    "            try:\n",
    "                enemy = relation[r]['enemyLabel']\n",
    "                if enemy not in data_[i]['relation-']:\n",
    "                    data_[i]['relation-'].append(enemy)\n",
    "            except KeyError:\n",
    "                pass\n",
    "        continue\n",
    "\n",
    "    sparql_query = \"\"\"\n",
    "        prefix schema: <http://schema.org/>\n",
    "        SELECT ?itemLabel ?enemyLabel\n",
    "        WHERE {\n",
    "            <https://en.wikipedia.org/wiki/\"\"\" + name + \"\"\"> schema:about ?item .\n",
    "            \n",
    "            ?item wdt:P7047 ?enemy .\n",
    "            SERVICE wikibase:label { bd:serviceParam wikibase:language \"[AUTO_LANGUAGE],en\" }\n",
    "        }\n",
    "    \"\"\"\n",
    "    \n",
    "    url = 'https://query.wikidata.org/sparql'\n",
    "    \n",
    "    sleep(1)\n",
    "    r = requests.get(url, params={'format': 'json', 'query': sparql_query})\n",
    "    try:\n",
    "        curr_data = r.json()\n",
    "    except:\n",
    "        print(r)\n",
    "        continue\n",
    "        \n",
    "    for r in curr_data['results']['bindings']:\n",
    "        enemy = r['enemyLabel']['value']\n",
    "        if enemy not in data_[i]['relation-']:\n",
    "            data_[i]['relation-'].append(enemy)        "
   ]
  },
  {
   "cell_type": "code",
   "execution_count": 154,
   "metadata": {
    "scrolled": true
   },
   "outputs": [
    {
     "data": {
      "text/plain": [
       "10"
      ]
     },
     "execution_count": 154,
     "metadata": {},
     "output_type": "execute_result"
    }
   ],
   "source": [
    "count = 0\n",
    "for p in data_:\n",
    "    if len(p['relation-']) > 0:\n",
    "        count += 1\n",
    "count"
   ]
  },
  {
   "cell_type": "code",
   "execution_count": 157,
   "metadata": {},
   "outputs": [],
   "source": [
    "has_relation_data_ = []\n",
    "\n",
    "for p in data_:\n",
    "    relations_count = len(p['relation+']) + len(p['relation-'])\n",
    "    \n",
    "    if relations_count > 0:\n",
    "        has_relation_data_.append(p)"
   ]
  },
  {
   "cell_type": "code",
   "execution_count": 158,
   "metadata": {},
   "outputs": [
    {
     "data": {
      "text/plain": [
       "233"
      ]
     },
     "execution_count": 158,
     "metadata": {},
     "output_type": "execute_result"
    }
   ],
   "source": [
    "len(has_relation_data_)"
   ]
  },
  {
   "cell_type": "code",
   "execution_count": 168,
   "metadata": {},
   "outputs": [],
   "source": [
    "has_relation_data = dict(enumerate(has_relation_data_))"
   ]
  },
  {
   "cell_type": "markdown",
   "metadata": {},
   "source": [
    "### data generation\n",
    "- 用wikidata query 补全enemy那一栏\n",
    "- 用enumerate(data_)生成index那一栏\n",
    "- 看有没有entity是完全没有relation的 如果有就去除 因为生成的图也会是独立的一个node 所以没有意义\n",
    "- 可以再参考一下github和kaggle的data 看看有什么要加的或者可以用的\n",
    "- 生成rdf\n",
    "\n",
    "### neo4j\n",
    "- 用生成的data做图\n",
    "- 图出来看看可不可以搞个search 可以看到specific 人物的所有特征和relation\n",
    "\n",
    "### psl\n",
    "- 想想怎么写rules\n",
    "- attribites embedding\n",
    "    - relation可以写成 p1,p2,+ 或者 p1,p2,-\n",
    "    - loyalty 也可以写成这样\n",
    "    - blood 可以写成 pureblood,1  muggle,0  half,0.5\n",
    "    - etc...\n"
   ]
  },
  {
   "cell_type": "markdown",
   "metadata": {},
   "source": [
    "### psl\n",
    "hair_color, eye_color, skin_color 这些写成RGB?"
   ]
  }
 ],
 "metadata": {
  "kernelspec": {
   "display_name": "Python 3",
   "language": "python",
   "name": "python3"
  },
  "language_info": {
   "codemirror_mode": {
    "name": "ipython",
    "version": 3
   },
   "file_extension": ".py",
   "mimetype": "text/x-python",
   "name": "python",
   "nbconvert_exporter": "python",
   "pygments_lexer": "ipython3",
   "version": "3.8.8"
  }
 },
 "nbformat": 4,
 "nbformat_minor": 4
}
