{
 "cells": [
  {
   "cell_type": "code",
   "execution_count": 1,
   "id": "ff8fc82c",
   "metadata": {},
   "outputs": [],
   "source": [
    "import os\n",
    "import json"
   ]
  },
  {
   "cell_type": "code",
   "execution_count": 2,
   "id": "bb0ec84c",
   "metadata": {},
   "outputs": [
    {
     "data": {
      "text/plain": [
       "['characters.csv', 'graph.json', 'relations.csv']"
      ]
     },
     "execution_count": 2,
     "metadata": {},
     "output_type": "execute_result"
    }
   ],
   "source": [
    "os.listdir('../github_structured_data/')"
   ]
  },
  {
   "cell_type": "markdown",
   "id": "a508371e",
   "metadata": {},
   "source": [
    "# Info"
   ]
  },
  {
   "cell_type": "code",
   "execution_count": 12,
   "id": "f766552e",
   "metadata": {},
   "outputs": [],
   "source": [
    "wands = []\n",
    "with open('../scrawl_fandom/wands.json') as f:\n",
    "    wands = json.load(f)"
   ]
  },
  {
   "cell_type": "code",
   "execution_count": 18,
   "id": "779ca0ec",
   "metadata": {},
   "outputs": [],
   "source": [
    "wands_revised = {}\n",
    "for wand in wands:\n",
    "    owner = wand['wand_owner']\n",
    "    wand_info = {}\n",
    "    wand_info['wood'] = wand['wand_wood']\n",
    "    wand_info['length'] = wand['wand_length']\n",
    "    wand_info['core'] = wand['wand_core']\n",
    "    wand_info['flexibility'] = wand['wand_flexibility']\n",
    "    \n",
    "    wands_revised[owner] = wand_info"
   ]
  },
  {
   "cell_type": "code",
   "execution_count": 19,
   "id": "0a85bb5c",
   "metadata": {},
   "outputs": [],
   "source": [
    "wands_key_lst = list(wands_revised.keys())"
   ]
  },
  {
   "cell_type": "code",
   "execution_count": 37,
   "id": "8a0dcf07",
   "metadata": {},
   "outputs": [],
   "source": [
    "multi_wands_char = {'Harry Potter':{'wand #2':['Harry_Potter_and_the_Deathly_Hallows'],\n",
    "                                    'wand #1': ['other']}, \n",
    "                    'Ron Weasley' :{'wand #1': [\"Harry_Potter_and_the_Philosopher's_Stone\", \"Harry_Potter_and_the_Chamber_of_Secrets\"],\n",
    "                                    'wand #2': ['Harry_Potter_and_the_Prisoner_of_Azkaban', 'Harry_Potter_and_the_Goblet_of_Fire', 'Harry_Potter_and_the_Order_of_the_Phoenix'],\n",
    "                                    'wand #3': ['Harry_Potter_and_the_Half-Blood_Prince', 'Harry_Potter_and_the_Deathly_Hallows']}, \n",
    "                    \"Jacob's sibling\": {'wand #1': ['other'],\n",
    "                                        'wand #2': ['Harry_Potter_and_the_Prisoner_of_Azkaban', 'Harry_Potter_and_the_Goblet_of_Fire', 'Harry_Potter_and_the_Order_of_the_Phoenix', 'Harry_Potter_and_the_Half-Blood_Prince', 'Harry_Potter_and_the_Deathly_Hallows']}}"
   ]
  },
  {
   "cell_type": "code",
   "execution_count": 3,
   "id": "87b8695d",
   "metadata": {
    "scrolled": true
   },
   "outputs": [],
   "source": [
    "kaggle_data = []\n",
    "with open('../kaggle_structured_data/characters.csv') as f:\n",
    "    first_line = []\n",
    "    first = True\n",
    "    for line in f:\n",
    "        lines = line[:-1].split(';')\n",
    "        #print(lines)\n",
    "        if first == True:\n",
    "            first_line = lines\n",
    "            first = False\n",
    "            continue\n",
    "        \n",
    "        row = {}\n",
    "        for i in range(len(lines)):\n",
    "            row[first_line[i]] = lines[i]\n",
    "        kaggle_data.append(row)"
   ]
  },
  {
   "cell_type": "code",
   "execution_count": 4,
   "id": "3dc21c15",
   "metadata": {},
   "outputs": [],
   "source": [
    "all_books = os.listdir('../wikidata/')"
   ]
  },
  {
   "cell_type": "code",
   "execution_count": 5,
   "id": "445979ed",
   "metadata": {},
   "outputs": [
    {
     "data": {
      "text/plain": [
       "['Harry_Potter_and_the_Chamber_of_Secrets',\n",
       " 'Harry_Potter_and_the_Deathly_Hallows',\n",
       " 'Harry_Potter_and_the_Goblet_of_Fire',\n",
       " 'Harry_Potter_and_the_Half-Blood_Prince',\n",
       " 'Harry_Potter_and_the_Order_of_the_Phoenix',\n",
       " \"Harry_Potter_and_the_Philosopher's_Stone\",\n",
       " 'Harry_Potter_and_the_Prisoner_of_Azkaban']"
      ]
     },
     "execution_count": 5,
     "metadata": {},
     "output_type": "execute_result"
    }
   ],
   "source": [
    "all_books"
   ]
  },
  {
   "cell_type": "code",
   "execution_count": 8,
   "id": "964e57c3",
   "metadata": {},
   "outputs": [],
   "source": [
    "all_books_info_dict = {}\n",
    "\n",
    "for book in all_books:\n",
    "    curr_path = '../wikidata/' + book + '/data/info.json'\n",
    "    \n",
    "    with open(curr_path) as f:\n",
    "        data = json.load(f)\n",
    "    \n",
    "    all_books_info_dict[book] = data"
   ]
  },
  {
   "cell_type": "code",
   "execution_count": 61,
   "id": "56763973",
   "metadata": {},
   "outputs": [],
   "source": [
    "def get_att(val, key):\n",
    "    try:\n",
    "        return val[key]\n",
    "    except KeyError:\n",
    "        return 'DNE'"
   ]
  },
  {
   "cell_type": "code",
   "execution_count": 80,
   "id": "780a10f0",
   "metadata": {
    "scrolled": true
   },
   "outputs": [],
   "source": [
    "combined_info_dict = {}\n",
    "\n",
    "for book, book_val in all_books_info_dict.items():\n",
    "    char_info = {}\n",
    "    curr_book_info = {}\n",
    "    \n",
    "    for char in book_val:\n",
    "        name = char['characterLabel']\n",
    "        gender = get_att(char, 'genderLabel')\n",
    "        blood_status = get_att(char, 'blood_statusLabel')\n",
    "        species =get_att(char, 'speciesLabel')\n",
    "        DOB = get_att(char, 'DOBLabel')\n",
    "        POB = get_att(char, 'POBLabel')\n",
    "        eye_color = get_att(char, 'eye_colorLabel')\n",
    "        hair_color = get_att(char, 'hair_colorLabel')\n",
    "        education = get_att(char, 'educationLabel')\n",
    "        employer = get_att(char, 'employerLabel')\n",
    "        membership = get_att(char, 'membershipLabel')\n",
    "        \n",
    "        has_wand = False\n",
    "        for key in wands_key_lst:\n",
    "            if name in key:\n",
    "                has_wand = True\n",
    "                wand_key = name\n",
    "                break\n",
    "        \n",
    "        if name in multi_wands_char.keys():\n",
    "            wand_num = 0\n",
    "            for key, val in multi_wands_char[name].items():\n",
    "                if book in val:\n",
    "                    wand_num = key\n",
    "            if wand_num == 0:\n",
    "                wand_num = 'wand #1'\n",
    "            wand_key = name + ' (' + wand_num + ')'\n",
    "        \n",
    "        if has_wand:\n",
    "            wand_info = wands_revised[wand_key]\n",
    "        else:\n",
    "            wand_info = None\n",
    "        \n",
    "        patronus = 'DNE'\n",
    "        for person in kaggle_data:\n",
    "            try:\n",
    "                person_name = person['Name'].split(' ')\n",
    "            except KeyError:\n",
    "                continue\n",
    "            curr_name = name.split(' ')\n",
    "            \n",
    "            check = True\n",
    "            for piece in curr_name:\n",
    "                if piece in person_name:\n",
    "                    pass\n",
    "                else:\n",
    "                    check = False\n",
    "                    \n",
    "            if check:\n",
    "                patronus = get_att(person, 'Patronus')\n",
    "                break\n",
    "        \n",
    "        if name in curr_book_info.keys():\n",
    "            if education not in curr_book_info[name]['education']:\n",
    "                curr_book_info[name]['education'].append(education)\n",
    "            if employer not in curr_book_info[name]['employer']:\n",
    "                curr_book_info[name]['employer'].append(employer)                \n",
    "            if membership not in curr_book_info[name]['membership']:\n",
    "                curr_book_info[name]['membership'].append(membership)                \n",
    "            if hair_color not in curr_book_info[name]['hair_color']:\n",
    "                curr_book_info[name]['hair_color'].append(hair_color)     \n",
    "        else:\n",
    "            val = {}\n",
    "            val['gender'] = gender\n",
    "            val['blood_status'] = blood_status\n",
    "            val['species'] = species\n",
    "            val['eye_color'] = eye_color\n",
    "            val['hair_color'] = [hair_color]\n",
    "            val['DOB'] = DOB\n",
    "            val['POB'] = POB\n",
    "            val['education'] = [education]\n",
    "            val['employer'] = [employer]\n",
    "            val['membership'] = [membership]\n",
    "            val['wand'] = wand_info\n",
    "\n",
    "            curr_book_info[name] = val\n",
    "    combined_info_dict[book] = curr_book_info"
   ]
  },
  {
   "cell_type": "code",
   "execution_count": 81,
   "id": "6a244f81",
   "metadata": {},
   "outputs": [],
   "source": [
    "with open('combined_info.json', 'w') as f:\n",
    "    json.dump(combined_info_dict, f)"
   ]
  },
  {
   "cell_type": "code",
   "execution_count": 82,
   "id": "39a2f064",
   "metadata": {},
   "outputs": [],
   "source": [
    "for key, val in combined_info_dict.items():\n",
    "    file = './info/' + key + '.json'\n",
    "    \n",
    "    with open(file, 'w') as f:\n",
    "        json.dump(val, f)"
   ]
  },
  {
   "cell_type": "markdown",
   "id": "265960e5",
   "metadata": {},
   "source": [
    "# Relation"
   ]
  },
  {
   "cell_type": "code",
   "execution_count": 77,
   "id": "658d8042",
   "metadata": {},
   "outputs": [],
   "source": [
    "all_books_relation_dict = {}\n",
    "\n",
    "for book in all_books:\n",
    "    curr_path = '../wikidata/' + book + '/data/relation.json'\n",
    "    \n",
    "    with open(curr_path) as f:\n",
    "        data = json.load(f)\n",
    "    \n",
    "    all_books_relation_dict[book] = data"
   ]
  },
  {
   "cell_type": "code",
   "execution_count": 83,
   "id": "48757652",
   "metadata": {},
   "outputs": [],
   "source": [
    "combined_relation_dict = {}\n",
    "\n",
    "for book, book_val in all_books_relation_dict.items():\n",
    "    curr_book_relation = {}\n",
    "    \n",
    "    for char in book_val:\n",
    "        name = get_att(char, 'characterLabel')\n",
    "        father = get_att(char, 'fatherLabel')\n",
    "        mother = get_att(char, 'motherLabel')\n",
    "        spouse = get_att(char, 'spouseLabel')\n",
    "        child = get_att(char, 'childLabel')\n",
    "        sibling = get_att(char, 'siblingLabel')\n",
    "        relative = get_att(char, 'relativeLabel')\n",
    "        in_relationship = get_att(char, 'in_relationshipLabel')\n",
    "        enemy = get_att(char, 'enemyLabel')\n",
    "        kill_by = get_att(char, 'kill_by_Label')\n",
    "        owner = get_att(char, 'ownerLabel')\n",
    "        \n",
    "        if name in curr_book_relation.keys():\n",
    "            if spouse not in curr_book_relation[name]['spouse']:\n",
    "                curr_book_relation[name]['spouse'].append(spouse)\n",
    "            if child not in curr_book_relation[name]['child']:\n",
    "                curr_book_relation[name]['child'].append(child)\n",
    "            if sibling not in curr_book_relation[name]['sibling']:\n",
    "                curr_book_relation[name]['sibling'].append(sibling)\n",
    "            if relative not in curr_book_relation[name]['relative']:\n",
    "                curr_book_relation[name]['relative'].append(relative)\n",
    "            if in_relationship not in curr_book_relation[name]['in_relationship']:\n",
    "                curr_book_relation[name]['in_relationship'].append(in_relationship)\n",
    "            if enemy not in curr_book_relation[name]['enemy']:\n",
    "                curr_book_relation[name]['enemy'].append(enemy)\n",
    "        else:\n",
    "            val = {}\n",
    "            val['father'] = father\n",
    "            val['mother'] = mother\n",
    "            val['spouse'] = [spouse]\n",
    "            val['child'] = [child]\n",
    "            val['sibling'] = [sibling]\n",
    "            val['relative'] = [relative]\n",
    "            val['in_relationship'] = [in_relationship]\n",
    "            val['enemy'] = [enemy]\n",
    "            val['kill_by'] = kill_by\n",
    "            val['owner'] = owner\n",
    "            \n",
    "            curr_book_relation[name] = val\n",
    "    combined_relation_dict[book] = curr_book_relation"
   ]
  },
  {
   "cell_type": "code",
   "execution_count": 85,
   "id": "e5295301",
   "metadata": {},
   "outputs": [],
   "source": [
    "with open('combined_relation.json', 'w') as f:\n",
    "    json.dump(combined_relation_dict, f)"
   ]
  },
  {
   "cell_type": "code",
   "execution_count": 86,
   "id": "5699a6a0",
   "metadata": {},
   "outputs": [],
   "source": [
    "for key, val in combined_relation_dict.items():\n",
    "    file = './relation/' + key + '.json'\n",
    "    \n",
    "    with open(file, 'w') as f:\n",
    "        json.dump(val, f)"
   ]
  },
  {
   "cell_type": "code",
   "execution_count": null,
   "id": "e297509f",
   "metadata": {},
   "outputs": [],
   "source": []
  }
 ],
 "metadata": {
  "kernelspec": {
   "display_name": "Python 3",
   "language": "python",
   "name": "python3"
  },
  "language_info": {
   "codemirror_mode": {
    "name": "ipython",
    "version": 3
   },
   "file_extension": ".py",
   "mimetype": "text/x-python",
   "name": "python",
   "nbconvert_exporter": "python",
   "pygments_lexer": "ipython3",
   "version": "3.8.8"
  }
 },
 "nbformat": 4,
 "nbformat_minor": 5
}
