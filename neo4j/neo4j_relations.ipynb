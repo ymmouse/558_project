{
 "cells": [
  {
   "cell_type": "code",
   "execution_count": 1,
   "id": "1267dbb3",
   "metadata": {},
   "outputs": [],
   "source": [
    "data = []\n",
    "with open('relations.csv') as f:\n",
    "    data = [row[:-1].split(',') for row in f][1:]"
   ]
  },
  {
   "cell_type": "code",
   "execution_count": 2,
   "id": "a1d2c434",
   "metadata": {},
   "outputs": [],
   "source": [
    "def process_r(r):\n",
    "    r = r.replace('-', '_').replace('/', '_or_').replace(' ', '_')\n",
    "    char_lst=['a', 'b', 'c', 'd', 'e', 'f', 'g', 'h', 'i', 'j', 'k', 'l', 'm', 'n', 'o', 'p', 'q', 'r', 's', 't', 'u', 'v', 'w', 'x', 'y', 'z']\n",
    "    \n",
    "    res = \"\"\n",
    "    for i in r:\n",
    "        if i == '_':\n",
    "            res += i\n",
    "        else:\n",
    "            if i in char_lst:\n",
    "                res += i\n",
    "                \n",
    "    return res.upper()"
   ]
  },
  {
   "cell_type": "code",
   "execution_count": 3,
   "id": "e6921f9e",
   "metadata": {},
   "outputs": [],
   "source": [
    "res = {}\n",
    "for i in data:\n",
    "    r = process_r(i[1])\n",
    "    if r in res.keys():\n",
    "        res[r].append((i[0], i[2]))\n",
    "    else:\n",
    "        res[r] = [(i[0], i[2])]"
   ]
  },
  {
   "cell_type": "code",
   "execution_count": 4,
   "id": "fc97e1e2",
   "metadata": {},
   "outputs": [],
   "source": [
    "import csv"
   ]
  },
  {
   "cell_type": "code",
   "execution_count": 5,
   "id": "df42adcb",
   "metadata": {},
   "outputs": [],
   "source": [
    "for key, val in res.items():\n",
    "    with open('./data/' + key +'.csv', 'w', newline='') as f:\n",
    "        f_writer = csv.writer(f)\n",
    "        f_writer.writerow(['src', 'dst'])\n",
    "        \n",
    "        for row in val:\n",
    "            f_writer.writerow(row)"
   ]
  },
  {
   "cell_type": "code",
   "execution_count": 6,
   "id": "d289097d",
   "metadata": {},
   "outputs": [],
   "source": [
    "with open('visulization.cypher', 'w') as f:\n",
    "    f.write('LOAD CSV WITH HEADERS FROM \"file:///nodes.csv\" AS line\\n')\n",
    "    f.write('MERGE (p:person{id:line.id, name:line.name, blood_status:line.blood_status, hair_color:line.hair_color, eye_color:line.eye_color, patronus:line.patronus, wand:line.wand, occupation:line.occupation, loyalty:line.loyalty, house:line.house});\\n\\n')\n",
    "\n",
    "    f.write('LOAD CSV WITH HEADERS FROM \"file:///enemies.csv\" AS line\\n')\n",
    "    f.write('MATCH (from:person{id:line.src}),(to:person{id:line.dst})\\n')\n",
    "    f.write('MERGE (from)-[r:ENEMY]->(to);\\n\\n')\n",
    "    \n",
    "    for key in res.keys():\n",
    "        f.write('LOAD CSV WITH HEADERS FROM \"file:///{}.csv\" AS line\\n'.format(key))\n",
    "        f.write('MATCH (from:person{id:line.src}),(to:person{id:line.dst})\\n')\n",
    "        f.write('MERGE (from)-[r:{}]->(to);\\n\\n'.format(key))"
   ]
  },
  {
   "cell_type": "code",
   "execution_count": null,
   "id": "504c86db",
   "metadata": {},
   "outputs": [],
   "source": []
  }
 ],
 "metadata": {
  "kernelspec": {
   "display_name": "Python 3",
   "language": "python",
   "name": "python3"
  },
  "language_info": {
   "codemirror_mode": {
    "name": "ipython",
    "version": 3
   },
   "file_extension": ".py",
   "mimetype": "text/x-python",
   "name": "python",
   "nbconvert_exporter": "python",
   "pygments_lexer": "ipython3",
   "version": "3.8.8"
  }
 },
 "nbformat": 4,
 "nbformat_minor": 5
}
